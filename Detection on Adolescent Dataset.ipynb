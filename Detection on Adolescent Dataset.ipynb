{
 "cells": [
  {
   "cell_type": "markdown",
   "id": "0312cebf",
   "metadata": {},
   "source": [
    "# Detection on Adolescent Dataset"
   ]
  },
  {
   "cell_type": "code",
   "execution_count": 1,
   "id": "01054ba0",
   "metadata": {
    "scrolled": true
   },
   "outputs": [],
   "source": [
    "import sys\n",
    "import pandas as pd\n",
    "import sklearn\n",
    "import keras\n",
    "import matplotlib.pyplot as plt\n"
   ]
  },
  {
   "cell_type": "code",
   "execution_count": 2,
   "id": "8cefd23a",
   "metadata": {},
   "outputs": [],
   "source": [
    "asd_data = pd.read_csv(r\"C:\\LEARNING\\Detection-of-Neurodevelopment-Disorder-main\\Detection-of-Neurodevelopment-Disorder-main\\Autism-Adolescent-Data Plus Description\\csv_result-Autism-Adolescent-Data.csv\", na_values=['?'])"
   ]
  },
  {
   "cell_type": "code",
   "execution_count": 3,
   "id": "285e98d4",
   "metadata": {},
   "outputs": [
    {
     "data": {
      "text/html": [
       "<div>\n",
       "<style scoped>\n",
       "    .dataframe tbody tr th:only-of-type {\n",
       "        vertical-align: middle;\n",
       "    }\n",
       "\n",
       "    .dataframe tbody tr th {\n",
       "        vertical-align: top;\n",
       "    }\n",
       "\n",
       "    .dataframe thead th {\n",
       "        text-align: right;\n",
       "    }\n",
       "</style>\n",
       "<table border=\"1\" class=\"dataframe\">\n",
       "  <thead>\n",
       "    <tr style=\"text-align: right;\">\n",
       "      <th></th>\n",
       "      <th>id</th>\n",
       "      <th>A1_Score</th>\n",
       "      <th>A2_Score</th>\n",
       "      <th>A3_Score</th>\n",
       "      <th>A4_Score</th>\n",
       "      <th>A5_Score</th>\n",
       "      <th>A6_Score</th>\n",
       "      <th>A7_Score</th>\n",
       "      <th>A8_Score</th>\n",
       "      <th>A9_Score</th>\n",
       "      <th>...</th>\n",
       "      <th>gender</th>\n",
       "      <th>ethnicity</th>\n",
       "      <th>jundice</th>\n",
       "      <th>austim</th>\n",
       "      <th>contry_of_res</th>\n",
       "      <th>used_app_before</th>\n",
       "      <th>result</th>\n",
       "      <th>age_desc</th>\n",
       "      <th>relation</th>\n",
       "      <th>Class/ASD</th>\n",
       "    </tr>\n",
       "  </thead>\n",
       "  <tbody>\n",
       "    <tr>\n",
       "      <th>0</th>\n",
       "      <td>1</td>\n",
       "      <td>0</td>\n",
       "      <td>0</td>\n",
       "      <td>0</td>\n",
       "      <td>1</td>\n",
       "      <td>1</td>\n",
       "      <td>1</td>\n",
       "      <td>1</td>\n",
       "      <td>1</td>\n",
       "      <td>1</td>\n",
       "      <td>...</td>\n",
       "      <td>m</td>\n",
       "      <td>Hispanic</td>\n",
       "      <td>yes</td>\n",
       "      <td>yes</td>\n",
       "      <td>Austria</td>\n",
       "      <td>no</td>\n",
       "      <td>6</td>\n",
       "      <td>12-16 years</td>\n",
       "      <td>Parent</td>\n",
       "      <td>NO</td>\n",
       "    </tr>\n",
       "    <tr>\n",
       "      <th>1</th>\n",
       "      <td>2</td>\n",
       "      <td>0</td>\n",
       "      <td>0</td>\n",
       "      <td>0</td>\n",
       "      <td>0</td>\n",
       "      <td>0</td>\n",
       "      <td>0</td>\n",
       "      <td>0</td>\n",
       "      <td>0</td>\n",
       "      <td>1</td>\n",
       "      <td>...</td>\n",
       "      <td>m</td>\n",
       "      <td>Black</td>\n",
       "      <td>no</td>\n",
       "      <td>no</td>\n",
       "      <td>Austria</td>\n",
       "      <td>no</td>\n",
       "      <td>2</td>\n",
       "      <td>12-16 years</td>\n",
       "      <td>Relative</td>\n",
       "      <td>NO</td>\n",
       "    </tr>\n",
       "    <tr>\n",
       "      <th>2</th>\n",
       "      <td>3</td>\n",
       "      <td>0</td>\n",
       "      <td>0</td>\n",
       "      <td>0</td>\n",
       "      <td>0</td>\n",
       "      <td>0</td>\n",
       "      <td>0</td>\n",
       "      <td>0</td>\n",
       "      <td>0</td>\n",
       "      <td>1</td>\n",
       "      <td>...</td>\n",
       "      <td>f</td>\n",
       "      <td>NaN</td>\n",
       "      <td>no</td>\n",
       "      <td>no</td>\n",
       "      <td>AmericanSamoa</td>\n",
       "      <td>no</td>\n",
       "      <td>2</td>\n",
       "      <td>12-16 years</td>\n",
       "      <td>NaN</td>\n",
       "      <td>NO</td>\n",
       "    </tr>\n",
       "    <tr>\n",
       "      <th>3</th>\n",
       "      <td>4</td>\n",
       "      <td>0</td>\n",
       "      <td>1</td>\n",
       "      <td>1</td>\n",
       "      <td>1</td>\n",
       "      <td>1</td>\n",
       "      <td>1</td>\n",
       "      <td>0</td>\n",
       "      <td>1</td>\n",
       "      <td>1</td>\n",
       "      <td>...</td>\n",
       "      <td>f</td>\n",
       "      <td>White-European</td>\n",
       "      <td>no</td>\n",
       "      <td>no</td>\n",
       "      <td>United Kingdom</td>\n",
       "      <td>no</td>\n",
       "      <td>7</td>\n",
       "      <td>12-16 years</td>\n",
       "      <td>Self</td>\n",
       "      <td>YES</td>\n",
       "    </tr>\n",
       "    <tr>\n",
       "      <th>4</th>\n",
       "      <td>5</td>\n",
       "      <td>1</td>\n",
       "      <td>1</td>\n",
       "      <td>1</td>\n",
       "      <td>1</td>\n",
       "      <td>1</td>\n",
       "      <td>1</td>\n",
       "      <td>1</td>\n",
       "      <td>0</td>\n",
       "      <td>0</td>\n",
       "      <td>...</td>\n",
       "      <td>f</td>\n",
       "      <td>NaN</td>\n",
       "      <td>no</td>\n",
       "      <td>no</td>\n",
       "      <td>Albania</td>\n",
       "      <td>no</td>\n",
       "      <td>7</td>\n",
       "      <td>12-16 years</td>\n",
       "      <td>NaN</td>\n",
       "      <td>YES</td>\n",
       "    </tr>\n",
       "  </tbody>\n",
       "</table>\n",
       "<p>5 rows × 22 columns</p>\n",
       "</div>"
      ],
      "text/plain": [
       "   id  A1_Score  A2_Score  A3_Score  A4_Score  A5_Score  A6_Score  A7_Score  \\\n",
       "0   1         0         0         0         1         1         1         1   \n",
       "1   2         0         0         0         0         0         0         0   \n",
       "2   3         0         0         0         0         0         0         0   \n",
       "3   4         0         1         1         1         1         1         0   \n",
       "4   5         1         1         1         1         1         1         1   \n",
       "\n",
       "   A8_Score  A9_Score  ...  gender       ethnicity jundice austim  \\\n",
       "0         1         1  ...       m        Hispanic     yes    yes   \n",
       "1         0         1  ...       m           Black      no     no   \n",
       "2         0         1  ...       f             NaN      no     no   \n",
       "3         1         1  ...       f  White-European      no     no   \n",
       "4         0         0  ...       f             NaN      no     no   \n",
       "\n",
       "    contry_of_res used_app_before result     age_desc  relation Class/ASD  \n",
       "0         Austria              no      6  12-16 years    Parent        NO  \n",
       "1         Austria              no      2  12-16 years  Relative        NO  \n",
       "2   AmericanSamoa              no      2  12-16 years       NaN        NO  \n",
       "3  United Kingdom              no      7  12-16 years      Self       YES  \n",
       "4         Albania              no      7  12-16 years       NaN       YES  \n",
       "\n",
       "[5 rows x 22 columns]"
      ]
     },
     "execution_count": 3,
     "metadata": {},
     "output_type": "execute_result"
    }
   ],
   "source": [
    "asd_data.head()"
   ]
  },
  {
   "cell_type": "code",
   "execution_count": 4,
   "id": "7d7c78e1",
   "metadata": {},
   "outputs": [
    {
     "name": "stdout",
     "output_type": "stream",
     "text": [
      "<class 'pandas.core.frame.DataFrame'>\n",
      "RangeIndex: 104 entries, 0 to 103\n",
      "Data columns (total 22 columns):\n",
      " #   Column           Non-Null Count  Dtype \n",
      "---  ------           --------------  ----- \n",
      " 0   id               104 non-null    int64 \n",
      " 1   A1_Score         104 non-null    int64 \n",
      " 2   A2_Score         104 non-null    int64 \n",
      " 3   A3_Score         104 non-null    int64 \n",
      " 4   A4_Score         104 non-null    int64 \n",
      " 5   A5_Score         104 non-null    int64 \n",
      " 6   A6_Score         104 non-null    int64 \n",
      " 7   A7_Score         104 non-null    int64 \n",
      " 8   A8_Score         104 non-null    int64 \n",
      " 9   A9_Score         104 non-null    int64 \n",
      " 10  A10_Score        104 non-null    int64 \n",
      " 11  age              104 non-null    int64 \n",
      " 12  gender           104 non-null    object\n",
      " 13  ethnicity        98 non-null     object\n",
      " 14  jundice          104 non-null    object\n",
      " 15  austim           104 non-null    object\n",
      " 16  contry_of_res    104 non-null    object\n",
      " 17  used_app_before  104 non-null    object\n",
      " 18  result           104 non-null    int64 \n",
      " 19  age_desc         104 non-null    object\n",
      " 20  relation         98 non-null     object\n",
      " 21  Class/ASD        104 non-null    object\n",
      "dtypes: int64(13), object(9)\n",
      "memory usage: 18.0+ KB\n"
     ]
    }
   ],
   "source": [
    "asd_data.info()"
   ]
  },
  {
   "cell_type": "code",
   "execution_count": 5,
   "id": "c9269253",
   "metadata": {},
   "outputs": [
    {
     "data": {
      "text/html": [
       "<div>\n",
       "<style scoped>\n",
       "    .dataframe tbody tr th:only-of-type {\n",
       "        vertical-align: middle;\n",
       "    }\n",
       "\n",
       "    .dataframe tbody tr th {\n",
       "        vertical-align: top;\n",
       "    }\n",
       "\n",
       "    .dataframe thead th {\n",
       "        text-align: right;\n",
       "    }\n",
       "</style>\n",
       "<table border=\"1\" class=\"dataframe\">\n",
       "  <thead>\n",
       "    <tr style=\"text-align: right;\">\n",
       "      <th></th>\n",
       "      <th>id</th>\n",
       "      <th>A1_Score</th>\n",
       "      <th>A2_Score</th>\n",
       "      <th>A3_Score</th>\n",
       "      <th>A4_Score</th>\n",
       "      <th>A5_Score</th>\n",
       "      <th>A6_Score</th>\n",
       "      <th>A7_Score</th>\n",
       "      <th>A8_Score</th>\n",
       "      <th>A9_Score</th>\n",
       "      <th>A10_Score</th>\n",
       "      <th>age</th>\n",
       "      <th>result</th>\n",
       "    </tr>\n",
       "  </thead>\n",
       "  <tbody>\n",
       "    <tr>\n",
       "      <th>count</th>\n",
       "      <td>104.000000</td>\n",
       "      <td>104.000000</td>\n",
       "      <td>104.000000</td>\n",
       "      <td>104.000000</td>\n",
       "      <td>104.000000</td>\n",
       "      <td>104.00000</td>\n",
       "      <td>104.000000</td>\n",
       "      <td>104.000000</td>\n",
       "      <td>104.000000</td>\n",
       "      <td>104.000000</td>\n",
       "      <td>104.000000</td>\n",
       "      <td>104.000000</td>\n",
       "      <td>104.000000</td>\n",
       "    </tr>\n",
       "    <tr>\n",
       "      <th>mean</th>\n",
       "      <td>52.500000</td>\n",
       "      <td>0.730769</td>\n",
       "      <td>0.538462</td>\n",
       "      <td>0.653846</td>\n",
       "      <td>0.701923</td>\n",
       "      <td>0.75000</td>\n",
       "      <td>0.769231</td>\n",
       "      <td>0.519231</td>\n",
       "      <td>0.615385</td>\n",
       "      <td>0.788462</td>\n",
       "      <td>0.653846</td>\n",
       "      <td>14.134615</td>\n",
       "      <td>6.721154</td>\n",
       "    </tr>\n",
       "    <tr>\n",
       "      <th>std</th>\n",
       "      <td>30.166206</td>\n",
       "      <td>0.445708</td>\n",
       "      <td>0.500933</td>\n",
       "      <td>0.478047</td>\n",
       "      <td>0.459629</td>\n",
       "      <td>0.43511</td>\n",
       "      <td>0.423365</td>\n",
       "      <td>0.502050</td>\n",
       "      <td>0.488860</td>\n",
       "      <td>0.410377</td>\n",
       "      <td>0.478047</td>\n",
       "      <td>1.576882</td>\n",
       "      <td>2.200868</td>\n",
       "    </tr>\n",
       "    <tr>\n",
       "      <th>min</th>\n",
       "      <td>1.000000</td>\n",
       "      <td>0.000000</td>\n",
       "      <td>0.000000</td>\n",
       "      <td>0.000000</td>\n",
       "      <td>0.000000</td>\n",
       "      <td>0.00000</td>\n",
       "      <td>0.000000</td>\n",
       "      <td>0.000000</td>\n",
       "      <td>0.000000</td>\n",
       "      <td>0.000000</td>\n",
       "      <td>0.000000</td>\n",
       "      <td>12.000000</td>\n",
       "      <td>1.000000</td>\n",
       "    </tr>\n",
       "    <tr>\n",
       "      <th>25%</th>\n",
       "      <td>26.750000</td>\n",
       "      <td>0.000000</td>\n",
       "      <td>0.000000</td>\n",
       "      <td>0.000000</td>\n",
       "      <td>0.000000</td>\n",
       "      <td>0.75000</td>\n",
       "      <td>1.000000</td>\n",
       "      <td>0.000000</td>\n",
       "      <td>0.000000</td>\n",
       "      <td>1.000000</td>\n",
       "      <td>0.000000</td>\n",
       "      <td>13.000000</td>\n",
       "      <td>6.000000</td>\n",
       "    </tr>\n",
       "    <tr>\n",
       "      <th>50%</th>\n",
       "      <td>52.500000</td>\n",
       "      <td>1.000000</td>\n",
       "      <td>1.000000</td>\n",
       "      <td>1.000000</td>\n",
       "      <td>1.000000</td>\n",
       "      <td>1.00000</td>\n",
       "      <td>1.000000</td>\n",
       "      <td>1.000000</td>\n",
       "      <td>1.000000</td>\n",
       "      <td>1.000000</td>\n",
       "      <td>1.000000</td>\n",
       "      <td>14.000000</td>\n",
       "      <td>7.000000</td>\n",
       "    </tr>\n",
       "    <tr>\n",
       "      <th>75%</th>\n",
       "      <td>78.250000</td>\n",
       "      <td>1.000000</td>\n",
       "      <td>1.000000</td>\n",
       "      <td>1.000000</td>\n",
       "      <td>1.000000</td>\n",
       "      <td>1.00000</td>\n",
       "      <td>1.000000</td>\n",
       "      <td>1.000000</td>\n",
       "      <td>1.000000</td>\n",
       "      <td>1.000000</td>\n",
       "      <td>1.000000</td>\n",
       "      <td>16.000000</td>\n",
       "      <td>8.000000</td>\n",
       "    </tr>\n",
       "    <tr>\n",
       "      <th>max</th>\n",
       "      <td>104.000000</td>\n",
       "      <td>1.000000</td>\n",
       "      <td>1.000000</td>\n",
       "      <td>1.000000</td>\n",
       "      <td>1.000000</td>\n",
       "      <td>1.00000</td>\n",
       "      <td>1.000000</td>\n",
       "      <td>1.000000</td>\n",
       "      <td>1.000000</td>\n",
       "      <td>1.000000</td>\n",
       "      <td>1.000000</td>\n",
       "      <td>16.000000</td>\n",
       "      <td>10.000000</td>\n",
       "    </tr>\n",
       "  </tbody>\n",
       "</table>\n",
       "</div>"
      ],
      "text/plain": [
       "               id    A1_Score    A2_Score    A3_Score    A4_Score   A5_Score  \\\n",
       "count  104.000000  104.000000  104.000000  104.000000  104.000000  104.00000   \n",
       "mean    52.500000    0.730769    0.538462    0.653846    0.701923    0.75000   \n",
       "std     30.166206    0.445708    0.500933    0.478047    0.459629    0.43511   \n",
       "min      1.000000    0.000000    0.000000    0.000000    0.000000    0.00000   \n",
       "25%     26.750000    0.000000    0.000000    0.000000    0.000000    0.75000   \n",
       "50%     52.500000    1.000000    1.000000    1.000000    1.000000    1.00000   \n",
       "75%     78.250000    1.000000    1.000000    1.000000    1.000000    1.00000   \n",
       "max    104.000000    1.000000    1.000000    1.000000    1.000000    1.00000   \n",
       "\n",
       "         A6_Score    A7_Score    A8_Score    A9_Score   A10_Score         age  \\\n",
       "count  104.000000  104.000000  104.000000  104.000000  104.000000  104.000000   \n",
       "mean     0.769231    0.519231    0.615385    0.788462    0.653846   14.134615   \n",
       "std      0.423365    0.502050    0.488860    0.410377    0.478047    1.576882   \n",
       "min      0.000000    0.000000    0.000000    0.000000    0.000000   12.000000   \n",
       "25%      1.000000    0.000000    0.000000    1.000000    0.000000   13.000000   \n",
       "50%      1.000000    1.000000    1.000000    1.000000    1.000000   14.000000   \n",
       "75%      1.000000    1.000000    1.000000    1.000000    1.000000   16.000000   \n",
       "max      1.000000    1.000000    1.000000    1.000000    1.000000   16.000000   \n",
       "\n",
       "           result  \n",
       "count  104.000000  \n",
       "mean     6.721154  \n",
       "std      2.200868  \n",
       "min      1.000000  \n",
       "25%      6.000000  \n",
       "50%      7.000000  \n",
       "75%      8.000000  \n",
       "max     10.000000  "
      ]
     },
     "execution_count": 5,
     "metadata": {},
     "output_type": "execute_result"
    }
   ],
   "source": [
    "asd_data.describe()"
   ]
  },
  {
   "cell_type": "markdown",
   "id": "032c623d",
   "metadata": {},
   "source": [
    "# Feature Exploration"
   ]
  },
  {
   "cell_type": "code",
   "execution_count": 6,
   "id": "9144afc0",
   "metadata": {},
   "outputs": [
    {
     "name": "stdout",
     "output_type": "stream",
     "text": [
      "Total number of records: 104\n",
      "Patients diagnoised with disorder: 63\n",
      "Patients not diagnoised with disorder: 41\n",
      "Percentage of patients diagnoised with disorder: 60.58%\n"
     ]
    }
   ],
   "source": [
    "records = len(asd_data.index)\n",
    "\n",
    "yes = len(asd_data[asd_data['Class/ASD'] == 'YES'])\n",
    "\n",
    "no = len(asd_data[asd_data['Class/ASD'] == 'NO'])\n",
    "\n",
    "yes_percent = float(yes) / records *100\n",
    "\n",
    "print(\"Total number of records: {}\".format(records))\n",
    "print(\"Patients diagnoised with disorder: {}\".format(yes))\n",
    "print(\"Patients not diagnoised with disorder: {}\".format(no))\n",
    "print(\"Percentage of patients diagnoised with disorder: {:.2f}%\".format(yes_percent))"
   ]
  },
  {
   "cell_type": "code",
   "execution_count": 7,
   "id": "55c12a39",
   "metadata": {},
   "outputs": [
    {
     "data": {
      "text/html": [
       "<div>\n",
       "<style scoped>\n",
       "    .dataframe tbody tr th:only-of-type {\n",
       "        vertical-align: middle;\n",
       "    }\n",
       "\n",
       "    .dataframe tbody tr th {\n",
       "        vertical-align: top;\n",
       "    }\n",
       "\n",
       "    .dataframe thead th {\n",
       "        text-align: right;\n",
       "    }\n",
       "</style>\n",
       "<table border=\"1\" class=\"dataframe\">\n",
       "  <thead>\n",
       "    <tr style=\"text-align: right;\">\n",
       "      <th></th>\n",
       "      <th>id</th>\n",
       "      <th>A1_Score</th>\n",
       "      <th>A2_Score</th>\n",
       "      <th>A3_Score</th>\n",
       "      <th>A4_Score</th>\n",
       "      <th>A5_Score</th>\n",
       "      <th>A6_Score</th>\n",
       "      <th>A7_Score</th>\n",
       "      <th>A8_Score</th>\n",
       "      <th>A9_Score</th>\n",
       "      <th>...</th>\n",
       "      <th>gender</th>\n",
       "      <th>ethnicity</th>\n",
       "      <th>jundice</th>\n",
       "      <th>austim</th>\n",
       "      <th>contry_of_res</th>\n",
       "      <th>used_app_before</th>\n",
       "      <th>result</th>\n",
       "      <th>age_desc</th>\n",
       "      <th>relation</th>\n",
       "      <th>Class/ASD</th>\n",
       "    </tr>\n",
       "  </thead>\n",
       "  <tbody>\n",
       "    <tr>\n",
       "      <th>2</th>\n",
       "      <td>3</td>\n",
       "      <td>0</td>\n",
       "      <td>0</td>\n",
       "      <td>0</td>\n",
       "      <td>0</td>\n",
       "      <td>0</td>\n",
       "      <td>0</td>\n",
       "      <td>0</td>\n",
       "      <td>0</td>\n",
       "      <td>1</td>\n",
       "      <td>...</td>\n",
       "      <td>f</td>\n",
       "      <td>NaN</td>\n",
       "      <td>no</td>\n",
       "      <td>no</td>\n",
       "      <td>AmericanSamoa</td>\n",
       "      <td>no</td>\n",
       "      <td>2</td>\n",
       "      <td>12-16 years</td>\n",
       "      <td>NaN</td>\n",
       "      <td>NO</td>\n",
       "    </tr>\n",
       "    <tr>\n",
       "      <th>4</th>\n",
       "      <td>5</td>\n",
       "      <td>1</td>\n",
       "      <td>1</td>\n",
       "      <td>1</td>\n",
       "      <td>1</td>\n",
       "      <td>1</td>\n",
       "      <td>1</td>\n",
       "      <td>1</td>\n",
       "      <td>0</td>\n",
       "      <td>0</td>\n",
       "      <td>...</td>\n",
       "      <td>f</td>\n",
       "      <td>NaN</td>\n",
       "      <td>no</td>\n",
       "      <td>no</td>\n",
       "      <td>Albania</td>\n",
       "      <td>no</td>\n",
       "      <td>7</td>\n",
       "      <td>12-16 years</td>\n",
       "      <td>NaN</td>\n",
       "      <td>YES</td>\n",
       "    </tr>\n",
       "    <tr>\n",
       "      <th>5</th>\n",
       "      <td>6</td>\n",
       "      <td>1</td>\n",
       "      <td>0</td>\n",
       "      <td>0</td>\n",
       "      <td>0</td>\n",
       "      <td>0</td>\n",
       "      <td>1</td>\n",
       "      <td>0</td>\n",
       "      <td>0</td>\n",
       "      <td>1</td>\n",
       "      <td>...</td>\n",
       "      <td>f</td>\n",
       "      <td>NaN</td>\n",
       "      <td>no</td>\n",
       "      <td>no</td>\n",
       "      <td>Belgium</td>\n",
       "      <td>no</td>\n",
       "      <td>3</td>\n",
       "      <td>12-16 years</td>\n",
       "      <td>NaN</td>\n",
       "      <td>NO</td>\n",
       "    </tr>\n",
       "    <tr>\n",
       "      <th>6</th>\n",
       "      <td>7</td>\n",
       "      <td>0</td>\n",
       "      <td>0</td>\n",
       "      <td>0</td>\n",
       "      <td>1</td>\n",
       "      <td>1</td>\n",
       "      <td>1</td>\n",
       "      <td>1</td>\n",
       "      <td>1</td>\n",
       "      <td>1</td>\n",
       "      <td>...</td>\n",
       "      <td>f</td>\n",
       "      <td>NaN</td>\n",
       "      <td>no</td>\n",
       "      <td>no</td>\n",
       "      <td>Afghanistan</td>\n",
       "      <td>no</td>\n",
       "      <td>6</td>\n",
       "      <td>12-16 years</td>\n",
       "      <td>NaN</td>\n",
       "      <td>NO</td>\n",
       "    </tr>\n",
       "    <tr>\n",
       "      <th>28</th>\n",
       "      <td>29</td>\n",
       "      <td>1</td>\n",
       "      <td>1</td>\n",
       "      <td>0</td>\n",
       "      <td>0</td>\n",
       "      <td>0</td>\n",
       "      <td>0</td>\n",
       "      <td>1</td>\n",
       "      <td>0</td>\n",
       "      <td>1</td>\n",
       "      <td>...</td>\n",
       "      <td>m</td>\n",
       "      <td>NaN</td>\n",
       "      <td>no</td>\n",
       "      <td>no</td>\n",
       "      <td>Afghanistan</td>\n",
       "      <td>no</td>\n",
       "      <td>4</td>\n",
       "      <td>12-16 years</td>\n",
       "      <td>NaN</td>\n",
       "      <td>NO</td>\n",
       "    </tr>\n",
       "    <tr>\n",
       "      <th>97</th>\n",
       "      <td>98</td>\n",
       "      <td>1</td>\n",
       "      <td>0</td>\n",
       "      <td>0</td>\n",
       "      <td>0</td>\n",
       "      <td>1</td>\n",
       "      <td>0</td>\n",
       "      <td>0</td>\n",
       "      <td>1</td>\n",
       "      <td>0</td>\n",
       "      <td>...</td>\n",
       "      <td>f</td>\n",
       "      <td>NaN</td>\n",
       "      <td>no</td>\n",
       "      <td>no</td>\n",
       "      <td>Argentina</td>\n",
       "      <td>no</td>\n",
       "      <td>4</td>\n",
       "      <td>12-15 years</td>\n",
       "      <td>NaN</td>\n",
       "      <td>NO</td>\n",
       "    </tr>\n",
       "  </tbody>\n",
       "</table>\n",
       "<p>6 rows × 22 columns</p>\n",
       "</div>"
      ],
      "text/plain": [
       "    id  A1_Score  A2_Score  A3_Score  A4_Score  A5_Score  A6_Score  A7_Score  \\\n",
       "2    3         0         0         0         0         0         0         0   \n",
       "4    5         1         1         1         1         1         1         1   \n",
       "5    6         1         0         0         0         0         1         0   \n",
       "6    7         0         0         0         1         1         1         1   \n",
       "28  29         1         1         0         0         0         0         1   \n",
       "97  98         1         0         0         0         1         0         0   \n",
       "\n",
       "    A8_Score  A9_Score  ...  gender  ethnicity jundice austim  contry_of_res  \\\n",
       "2          0         1  ...       f        NaN      no     no  AmericanSamoa   \n",
       "4          0         0  ...       f        NaN      no     no        Albania   \n",
       "5          0         1  ...       f        NaN      no     no        Belgium   \n",
       "6          1         1  ...       f        NaN      no     no    Afghanistan   \n",
       "28         0         1  ...       m        NaN      no     no    Afghanistan   \n",
       "97         1         0  ...       f        NaN      no     no      Argentina   \n",
       "\n",
       "   used_app_before result     age_desc  relation Class/ASD  \n",
       "2               no      2  12-16 years       NaN        NO  \n",
       "4               no      7  12-16 years       NaN       YES  \n",
       "5               no      3  12-16 years       NaN        NO  \n",
       "6               no      6  12-16 years       NaN        NO  \n",
       "28              no      4  12-16 years       NaN        NO  \n",
       "97              no      4  12-15 years       NaN        NO  \n",
       "\n",
       "[6 rows x 22 columns]"
      ]
     },
     "execution_count": 7,
     "metadata": {},
     "output_type": "execute_result"
    }
   ],
   "source": [
    "# .isnull() will replace the null values with boolean value True and otherwise with False.\n",
    "# Pandas DataFrame.loc attribute access a group of rows and columns by label(s) or a boolean array in the given DataFrame.\n",
    "asd_data.loc[\n",
    "             (asd_data['age'].isnull()) |\n",
    "             (asd_data['gender'].isnull()) |\n",
    "             (asd_data['ethnicity'].isnull()) |\n",
    "             (asd_data['jundice'].isnull())|\n",
    "             (asd_data['austim'].isnull()) |\n",
    "             (asd_data['contry_of_res'].isnull())|\n",
    "             (asd_data['used_app_before'].isnull())|\n",
    "             (asd_data['result'].isnull())|\n",
    "             (asd_data['age_desc'].isnull())|\n",
    "             (asd_data['relation'].isnull())\n",
    "            ]"
   ]
  },
  {
   "cell_type": "code",
   "execution_count": 8,
   "id": "7514752a",
   "metadata": {},
   "outputs": [
    {
     "data": {
      "text/html": [
       "<div>\n",
       "<style scoped>\n",
       "    .dataframe tbody tr th:only-of-type {\n",
       "        vertical-align: middle;\n",
       "    }\n",
       "\n",
       "    .dataframe tbody tr th {\n",
       "        vertical-align: top;\n",
       "    }\n",
       "\n",
       "    .dataframe thead th {\n",
       "        text-align: right;\n",
       "    }\n",
       "</style>\n",
       "<table border=\"1\" class=\"dataframe\">\n",
       "  <thead>\n",
       "    <tr style=\"text-align: right;\">\n",
       "      <th></th>\n",
       "      <th>id</th>\n",
       "      <th>A1_Score</th>\n",
       "      <th>A2_Score</th>\n",
       "      <th>A3_Score</th>\n",
       "      <th>A4_Score</th>\n",
       "      <th>A5_Score</th>\n",
       "      <th>A6_Score</th>\n",
       "      <th>A7_Score</th>\n",
       "      <th>A8_Score</th>\n",
       "      <th>A9_Score</th>\n",
       "      <th>A10_Score</th>\n",
       "      <th>age</th>\n",
       "      <th>result</th>\n",
       "    </tr>\n",
       "  </thead>\n",
       "  <tbody>\n",
       "    <tr>\n",
       "      <th>count</th>\n",
       "      <td>98.000000</td>\n",
       "      <td>98.000000</td>\n",
       "      <td>98.000000</td>\n",
       "      <td>98.000000</td>\n",
       "      <td>98.000000</td>\n",
       "      <td>98.000000</td>\n",
       "      <td>98.000000</td>\n",
       "      <td>98.000000</td>\n",
       "      <td>98.000000</td>\n",
       "      <td>98.000000</td>\n",
       "      <td>98.000000</td>\n",
       "      <td>98.000000</td>\n",
       "      <td>98.000000</td>\n",
       "    </tr>\n",
       "    <tr>\n",
       "      <th>mean</th>\n",
       "      <td>54.204082</td>\n",
       "      <td>0.734694</td>\n",
       "      <td>0.551020</td>\n",
       "      <td>0.683673</td>\n",
       "      <td>0.724490</td>\n",
       "      <td>0.765306</td>\n",
       "      <td>0.785714</td>\n",
       "      <td>0.520408</td>\n",
       "      <td>0.632653</td>\n",
       "      <td>0.795918</td>\n",
       "      <td>0.673469</td>\n",
       "      <td>14.132653</td>\n",
       "      <td>6.867347</td>\n",
       "    </tr>\n",
       "    <tr>\n",
       "      <th>std</th>\n",
       "      <td>29.054502</td>\n",
       "      <td>0.443766</td>\n",
       "      <td>0.499947</td>\n",
       "      <td>0.467433</td>\n",
       "      <td>0.449068</td>\n",
       "      <td>0.425986</td>\n",
       "      <td>0.412436</td>\n",
       "      <td>0.502152</td>\n",
       "      <td>0.484561</td>\n",
       "      <td>0.405101</td>\n",
       "      <td>0.471355</td>\n",
       "      <td>1.577142</td>\n",
       "      <td>2.142538</td>\n",
       "    </tr>\n",
       "    <tr>\n",
       "      <th>min</th>\n",
       "      <td>1.000000</td>\n",
       "      <td>0.000000</td>\n",
       "      <td>0.000000</td>\n",
       "      <td>0.000000</td>\n",
       "      <td>0.000000</td>\n",
       "      <td>0.000000</td>\n",
       "      <td>0.000000</td>\n",
       "      <td>0.000000</td>\n",
       "      <td>0.000000</td>\n",
       "      <td>0.000000</td>\n",
       "      <td>0.000000</td>\n",
       "      <td>12.000000</td>\n",
       "      <td>1.000000</td>\n",
       "    </tr>\n",
       "    <tr>\n",
       "      <th>25%</th>\n",
       "      <td>30.250000</td>\n",
       "      <td>0.000000</td>\n",
       "      <td>0.000000</td>\n",
       "      <td>0.000000</td>\n",
       "      <td>0.000000</td>\n",
       "      <td>1.000000</td>\n",
       "      <td>1.000000</td>\n",
       "      <td>0.000000</td>\n",
       "      <td>0.000000</td>\n",
       "      <td>1.000000</td>\n",
       "      <td>0.000000</td>\n",
       "      <td>13.000000</td>\n",
       "      <td>6.000000</td>\n",
       "    </tr>\n",
       "    <tr>\n",
       "      <th>50%</th>\n",
       "      <td>54.500000</td>\n",
       "      <td>1.000000</td>\n",
       "      <td>1.000000</td>\n",
       "      <td>1.000000</td>\n",
       "      <td>1.000000</td>\n",
       "      <td>1.000000</td>\n",
       "      <td>1.000000</td>\n",
       "      <td>1.000000</td>\n",
       "      <td>1.000000</td>\n",
       "      <td>1.000000</td>\n",
       "      <td>1.000000</td>\n",
       "      <td>14.000000</td>\n",
       "      <td>7.000000</td>\n",
       "    </tr>\n",
       "    <tr>\n",
       "      <th>75%</th>\n",
       "      <td>78.750000</td>\n",
       "      <td>1.000000</td>\n",
       "      <td>1.000000</td>\n",
       "      <td>1.000000</td>\n",
       "      <td>1.000000</td>\n",
       "      <td>1.000000</td>\n",
       "      <td>1.000000</td>\n",
       "      <td>1.000000</td>\n",
       "      <td>1.000000</td>\n",
       "      <td>1.000000</td>\n",
       "      <td>1.000000</td>\n",
       "      <td>16.000000</td>\n",
       "      <td>8.000000</td>\n",
       "    </tr>\n",
       "    <tr>\n",
       "      <th>max</th>\n",
       "      <td>104.000000</td>\n",
       "      <td>1.000000</td>\n",
       "      <td>1.000000</td>\n",
       "      <td>1.000000</td>\n",
       "      <td>1.000000</td>\n",
       "      <td>1.000000</td>\n",
       "      <td>1.000000</td>\n",
       "      <td>1.000000</td>\n",
       "      <td>1.000000</td>\n",
       "      <td>1.000000</td>\n",
       "      <td>1.000000</td>\n",
       "      <td>16.000000</td>\n",
       "      <td>10.000000</td>\n",
       "    </tr>\n",
       "  </tbody>\n",
       "</table>\n",
       "</div>"
      ],
      "text/plain": [
       "               id   A1_Score   A2_Score   A3_Score   A4_Score   A5_Score  \\\n",
       "count   98.000000  98.000000  98.000000  98.000000  98.000000  98.000000   \n",
       "mean    54.204082   0.734694   0.551020   0.683673   0.724490   0.765306   \n",
       "std     29.054502   0.443766   0.499947   0.467433   0.449068   0.425986   \n",
       "min      1.000000   0.000000   0.000000   0.000000   0.000000   0.000000   \n",
       "25%     30.250000   0.000000   0.000000   0.000000   0.000000   1.000000   \n",
       "50%     54.500000   1.000000   1.000000   1.000000   1.000000   1.000000   \n",
       "75%     78.750000   1.000000   1.000000   1.000000   1.000000   1.000000   \n",
       "max    104.000000   1.000000   1.000000   1.000000   1.000000   1.000000   \n",
       "\n",
       "        A6_Score   A7_Score   A8_Score   A9_Score  A10_Score        age  \\\n",
       "count  98.000000  98.000000  98.000000  98.000000  98.000000  98.000000   \n",
       "mean    0.785714   0.520408   0.632653   0.795918   0.673469  14.132653   \n",
       "std     0.412436   0.502152   0.484561   0.405101   0.471355   1.577142   \n",
       "min     0.000000   0.000000   0.000000   0.000000   0.000000  12.000000   \n",
       "25%     1.000000   0.000000   0.000000   1.000000   0.000000  13.000000   \n",
       "50%     1.000000   1.000000   1.000000   1.000000   1.000000  14.000000   \n",
       "75%     1.000000   1.000000   1.000000   1.000000   1.000000  16.000000   \n",
       "max     1.000000   1.000000   1.000000   1.000000   1.000000  16.000000   \n",
       "\n",
       "          result  \n",
       "count  98.000000  \n",
       "mean    6.867347  \n",
       "std     2.142538  \n",
       "min     1.000000  \n",
       "25%     6.000000  \n",
       "50%     7.000000  \n",
       "75%     8.000000  \n",
       "max    10.000000  "
      ]
     },
     "execution_count": 8,
     "metadata": {},
     "output_type": "execute_result"
    }
   ],
   "source": [
    "asd_data.dropna(inplace = True) #As the missing data is random, dropna will drop the rows with missing data\n",
    "asd_data.describe()"
   ]
  },
  {
   "cell_type": "markdown",
   "id": "dbafef0f",
   "metadata": {},
   "source": [
    "# Visualization"
   ]
  },
  {
   "cell_type": "code",
   "execution_count": 9,
   "id": "11a95e5a",
   "metadata": {},
   "outputs": [],
   "source": [
    "import seaborn as sns\n",
    "import matplotlib.pyplot as plt\n",
    "sns.set(style=\"whitegrid\", color_codes=True)"
   ]
  },
  {
   "cell_type": "code",
   "execution_count": 10,
   "id": "32d61aaa",
   "metadata": {},
   "outputs": [
    {
     "data": {
      "image/png": "[encoded data removed]",
      "text/plain": [
       "<Figure size 640x480 with 1 Axes>"
      ]
     },
     "metadata": {},
     "output_type": "display_data"
    }
   ],
   "source": [
    "sns.violinplot(x=\"jundice\", y=\"result\", hue=\"austim\", data=asd_data, split=True,\n",
    "                inner=\"quart\", palette={'yes': \"orange\", 'no': \"blue\"})\n",
    "sns.despine(left=True)"
   ]
  },
  {
   "cell_type": "code",
   "execution_count": 11,
   "id": "4e4718a6",
   "metadata": {},
   "outputs": [
    {
     "data": {
      "image/png": "[encoded data removed]",
      "text/plain": [
       "<Figure size 1092.47x500 with 2 Axes>"
      ]
     },
     "metadata": {},
     "output_type": "display_data"
    }
   ],
   "source": [
    "sns.catplot(x=\"jundice\", y=\"result\", hue=\"Class/ASD\", col=\"gender\", data=asd_data, kind=\"swarm\");"
   ]
  },
  {
   "cell_type": "code",
   "execution_count": 12,
   "id": "8ed38af5",
   "metadata": {},
   "outputs": [
    {
     "data": {
      "text/plain": [
       "<seaborn.axisgrid.FacetGrid at 0x23098b5c2c0>"
      ]
     },
     "execution_count": 12,
     "metadata": {},
     "output_type": "execute_result"
    },
    {
     "data": {
      "image/png": "[encoded data removed]",
      "text/plain": [
       "<Figure size 1092.47x400 with 5 Axes>"
      ]
     },
     "metadata": {},
     "output_type": "display_data"
    }
   ],
   "source": [
    "sns.catplot(x=\"gender\", y=\"result\", hue=\"Class/ASD\",\n",
    "            col=\"relation\", data=asd_data, kind=\"box\", height=4, aspect=.5, palette={'YES': \"orange\", 'NO': \"blue\"})"
   ]
  },
  {
   "cell_type": "code",
   "execution_count": 13,
   "id": "32559488",
   "metadata": {},
   "outputs": [
    {
     "data": {
      "image/png": "[encoded data removed]",
      "text/plain": [
       "<Figure size 767.625x1000 with 5 Axes>"
      ]
     },
     "metadata": {},
     "output_type": "display_data"
    }
   ],
   "source": [
    "g = sns.catplot(x=\"result\", y=\"jundice\",\n",
    "                hue=\"gender\", row=\"relation\",\n",
    "                data=asd_data,\n",
    "                orient=\"h\", height=2, aspect=3.5, palette={'m': \"blue\", 'f': \"orange\"},\n",
    "                kind=\"violin\", dodge=True, cut=0, bw_adjust=0.2)\n"
   ]
  },
  {
   "cell_type": "markdown",
   "id": "5118db27",
   "metadata": {},
   "source": [
    "# Pre-Processing"
   ]
  },
  {
   "cell_type": "code",
   "execution_count": 14,
   "id": "524e5f8d",
   "metadata": {},
   "outputs": [],
   "source": [
    "# Split the data into features and target label\n",
    "asd_raw = asd_data['Class/ASD']\n",
    "features_raw = asd_data[['age', 'gender', 'ethnicity', 'jundice', 'austim', \n",
    "                         'contry_of_res', 'result', 'relation',\n",
    "                         'A1_Score','A2_Score','A3_Score','A4_Score','A5_Score',\n",
    "                         'A6_Score','A7_Score','A8_Score','A9_Score','A10_Score']]"
   ]
  },
  {
   "cell_type": "code",
   "execution_count": 15,
   "id": "36ad019e",
   "metadata": {},
   "outputs": [
    {
     "data": {
      "text/html": [
       "<div>\n",
       "<style scoped>\n",
       "    .dataframe tbody tr th:only-of-type {\n",
       "        vertical-align: middle;\n",
       "    }\n",
       "\n",
       "    .dataframe tbody tr th {\n",
       "        vertical-align: top;\n",
       "    }\n",
       "\n",
       "    .dataframe thead th {\n",
       "        text-align: right;\n",
       "    }\n",
       "</style>\n",
       "<table border=\"1\" class=\"dataframe\">\n",
       "  <thead>\n",
       "    <tr style=\"text-align: right;\">\n",
       "      <th></th>\n",
       "      <th>age</th>\n",
       "      <th>gender</th>\n",
       "      <th>ethnicity</th>\n",
       "      <th>jundice</th>\n",
       "      <th>austim</th>\n",
       "      <th>contry_of_res</th>\n",
       "      <th>result</th>\n",
       "      <th>relation</th>\n",
       "      <th>A1_Score</th>\n",
       "      <th>A2_Score</th>\n",
       "      <th>A3_Score</th>\n",
       "      <th>A4_Score</th>\n",
       "      <th>A5_Score</th>\n",
       "      <th>A6_Score</th>\n",
       "      <th>A7_Score</th>\n",
       "      <th>A8_Score</th>\n",
       "      <th>A9_Score</th>\n",
       "      <th>A10_Score</th>\n",
       "    </tr>\n",
       "  </thead>\n",
       "  <tbody>\n",
       "    <tr>\n",
       "      <th>0</th>\n",
       "      <td>0.75</td>\n",
       "      <td>m</td>\n",
       "      <td>Hispanic</td>\n",
       "      <td>yes</td>\n",
       "      <td>yes</td>\n",
       "      <td>Austria</td>\n",
       "      <td>0.555556</td>\n",
       "      <td>Parent</td>\n",
       "      <td>0</td>\n",
       "      <td>0</td>\n",
       "      <td>0</td>\n",
       "      <td>1</td>\n",
       "      <td>1</td>\n",
       "      <td>1</td>\n",
       "      <td>1</td>\n",
       "      <td>1</td>\n",
       "      <td>1</td>\n",
       "      <td>0</td>\n",
       "    </tr>\n",
       "    <tr>\n",
       "      <th>1</th>\n",
       "      <td>0.75</td>\n",
       "      <td>m</td>\n",
       "      <td>Black</td>\n",
       "      <td>no</td>\n",
       "      <td>no</td>\n",
       "      <td>Austria</td>\n",
       "      <td>0.111111</td>\n",
       "      <td>Relative</td>\n",
       "      <td>0</td>\n",
       "      <td>0</td>\n",
       "      <td>0</td>\n",
       "      <td>0</td>\n",
       "      <td>0</td>\n",
       "      <td>0</td>\n",
       "      <td>0</td>\n",
       "      <td>0</td>\n",
       "      <td>1</td>\n",
       "      <td>1</td>\n",
       "    </tr>\n",
       "    <tr>\n",
       "      <th>3</th>\n",
       "      <td>0.50</td>\n",
       "      <td>f</td>\n",
       "      <td>White-European</td>\n",
       "      <td>no</td>\n",
       "      <td>no</td>\n",
       "      <td>United Kingdom</td>\n",
       "      <td>0.666667</td>\n",
       "      <td>Self</td>\n",
       "      <td>0</td>\n",
       "      <td>1</td>\n",
       "      <td>1</td>\n",
       "      <td>1</td>\n",
       "      <td>1</td>\n",
       "      <td>1</td>\n",
       "      <td>0</td>\n",
       "      <td>1</td>\n",
       "      <td>1</td>\n",
       "      <td>0</td>\n",
       "    </tr>\n",
       "    <tr>\n",
       "      <th>7</th>\n",
       "      <td>0.75</td>\n",
       "      <td>f</td>\n",
       "      <td>Middle Eastern</td>\n",
       "      <td>no</td>\n",
       "      <td>no</td>\n",
       "      <td>Australia</td>\n",
       "      <td>0.666667</td>\n",
       "      <td>Parent</td>\n",
       "      <td>1</td>\n",
       "      <td>1</td>\n",
       "      <td>0</td>\n",
       "      <td>1</td>\n",
       "      <td>1</td>\n",
       "      <td>0</td>\n",
       "      <td>1</td>\n",
       "      <td>1</td>\n",
       "      <td>0</td>\n",
       "      <td>1</td>\n",
       "    </tr>\n",
       "    <tr>\n",
       "      <th>8</th>\n",
       "      <td>0.00</td>\n",
       "      <td>m</td>\n",
       "      <td>Black</td>\n",
       "      <td>yes</td>\n",
       "      <td>yes</td>\n",
       "      <td>Bahrain</td>\n",
       "      <td>0.555556</td>\n",
       "      <td>Parent</td>\n",
       "      <td>1</td>\n",
       "      <td>1</td>\n",
       "      <td>1</td>\n",
       "      <td>1</td>\n",
       "      <td>1</td>\n",
       "      <td>1</td>\n",
       "      <td>0</td>\n",
       "      <td>0</td>\n",
       "      <td>0</td>\n",
       "      <td>0</td>\n",
       "    </tr>\n",
       "    <tr>\n",
       "      <th>...</th>\n",
       "      <td>...</td>\n",
       "      <td>...</td>\n",
       "      <td>...</td>\n",
       "      <td>...</td>\n",
       "      <td>...</td>\n",
       "      <td>...</td>\n",
       "      <td>...</td>\n",
       "      <td>...</td>\n",
       "      <td>...</td>\n",
       "      <td>...</td>\n",
       "      <td>...</td>\n",
       "      <td>...</td>\n",
       "      <td>...</td>\n",
       "      <td>...</td>\n",
       "      <td>...</td>\n",
       "      <td>...</td>\n",
       "      <td>...</td>\n",
       "      <td>...</td>\n",
       "    </tr>\n",
       "    <tr>\n",
       "      <th>99</th>\n",
       "      <td>1.00</td>\n",
       "      <td>f</td>\n",
       "      <td>Middle Eastern</td>\n",
       "      <td>no</td>\n",
       "      <td>no</td>\n",
       "      <td>Anguilla</td>\n",
       "      <td>0.555556</td>\n",
       "      <td>Parent</td>\n",
       "      <td>0</td>\n",
       "      <td>1</td>\n",
       "      <td>1</td>\n",
       "      <td>1</td>\n",
       "      <td>0</td>\n",
       "      <td>1</td>\n",
       "      <td>1</td>\n",
       "      <td>0</td>\n",
       "      <td>1</td>\n",
       "      <td>0</td>\n",
       "    </tr>\n",
       "    <tr>\n",
       "      <th>100</th>\n",
       "      <td>1.00</td>\n",
       "      <td>m</td>\n",
       "      <td>Asian</td>\n",
       "      <td>no</td>\n",
       "      <td>no</td>\n",
       "      <td>India</td>\n",
       "      <td>0.333333</td>\n",
       "      <td>Parent</td>\n",
       "      <td>1</td>\n",
       "      <td>0</td>\n",
       "      <td>1</td>\n",
       "      <td>0</td>\n",
       "      <td>0</td>\n",
       "      <td>0</td>\n",
       "      <td>0</td>\n",
       "      <td>1</td>\n",
       "      <td>0</td>\n",
       "      <td>1</td>\n",
       "    </tr>\n",
       "    <tr>\n",
       "      <th>101</th>\n",
       "      <td>0.00</td>\n",
       "      <td>f</td>\n",
       "      <td>White-European</td>\n",
       "      <td>no</td>\n",
       "      <td>no</td>\n",
       "      <td>United Kingdom</td>\n",
       "      <td>0.777778</td>\n",
       "      <td>Self</td>\n",
       "      <td>1</td>\n",
       "      <td>0</td>\n",
       "      <td>0</td>\n",
       "      <td>1</td>\n",
       "      <td>1</td>\n",
       "      <td>1</td>\n",
       "      <td>1</td>\n",
       "      <td>1</td>\n",
       "      <td>1</td>\n",
       "      <td>1</td>\n",
       "    </tr>\n",
       "    <tr>\n",
       "      <th>102</th>\n",
       "      <td>0.25</td>\n",
       "      <td>f</td>\n",
       "      <td>White-European</td>\n",
       "      <td>no</td>\n",
       "      <td>no</td>\n",
       "      <td>United Kingdom</td>\n",
       "      <td>0.555556</td>\n",
       "      <td>Self</td>\n",
       "      <td>1</td>\n",
       "      <td>1</td>\n",
       "      <td>0</td>\n",
       "      <td>1</td>\n",
       "      <td>1</td>\n",
       "      <td>0</td>\n",
       "      <td>0</td>\n",
       "      <td>0</td>\n",
       "      <td>1</td>\n",
       "      <td>1</td>\n",
       "    </tr>\n",
       "    <tr>\n",
       "      <th>103</th>\n",
       "      <td>0.00</td>\n",
       "      <td>m</td>\n",
       "      <td>Asian</td>\n",
       "      <td>no</td>\n",
       "      <td>no</td>\n",
       "      <td>India</td>\n",
       "      <td>0.555556</td>\n",
       "      <td>Parent</td>\n",
       "      <td>1</td>\n",
       "      <td>0</td>\n",
       "      <td>1</td>\n",
       "      <td>0</td>\n",
       "      <td>0</td>\n",
       "      <td>1</td>\n",
       "      <td>1</td>\n",
       "      <td>1</td>\n",
       "      <td>1</td>\n",
       "      <td>0</td>\n",
       "    </tr>\n",
       "  </tbody>\n",
       "</table>\n",
       "<p>98 rows × 18 columns</p>\n",
       "</div>"
      ],
      "text/plain": [
       "      age gender        ethnicity jundice austim   contry_of_res    result  \\\n",
       "0    0.75      m         Hispanic     yes    yes         Austria  0.555556   \n",
       "1    0.75      m            Black      no     no         Austria  0.111111   \n",
       "3    0.50      f   White-European      no     no  United Kingdom  0.666667   \n",
       "7    0.75      f  Middle Eastern       no     no       Australia  0.666667   \n",
       "8    0.00      m            Black     yes    yes         Bahrain  0.555556   \n",
       "..    ...    ...              ...     ...    ...             ...       ...   \n",
       "99   1.00      f  Middle Eastern       no     no        Anguilla  0.555556   \n",
       "100  1.00      m            Asian      no     no           India  0.333333   \n",
       "101  0.00      f   White-European      no     no  United Kingdom  0.777778   \n",
       "102  0.25      f   White-European      no     no  United Kingdom  0.555556   \n",
       "103  0.00      m            Asian      no     no           India  0.555556   \n",
       "\n",
       "     relation  A1_Score  A2_Score  A3_Score  A4_Score  A5_Score  A6_Score  \\\n",
       "0      Parent         0         0         0         1         1         1   \n",
       "1    Relative         0         0         0         0         0         0   \n",
       "3        Self         0         1         1         1         1         1   \n",
       "7      Parent         1         1         0         1         1         0   \n",
       "8      Parent         1         1         1         1         1         1   \n",
       "..        ...       ...       ...       ...       ...       ...       ...   \n",
       "99     Parent         0         1         1         1         0         1   \n",
       "100    Parent         1         0         1         0         0         0   \n",
       "101      Self         1         0         0         1         1         1   \n",
       "102      Self         1         1         0         1         1         0   \n",
       "103    Parent         1         0         1         0         0         1   \n",
       "\n",
       "     A7_Score  A8_Score  A9_Score  A10_Score  \n",
       "0           1         1         1          0  \n",
       "1           0         0         1          1  \n",
       "3           0         1         1          0  \n",
       "7           1         1         0          1  \n",
       "8           0         0         0          0  \n",
       "..        ...       ...       ...        ...  \n",
       "99          1         0         1          0  \n",
       "100         0         1         0          1  \n",
       "101         1         1         1          1  \n",
       "102         0         0         1          1  \n",
       "103         1         1         1          0  \n",
       "\n",
       "[98 rows x 18 columns]"
      ]
     },
     "execution_count": 15,
     "metadata": {},
     "output_type": "execute_result"
    }
   ],
   "source": [
    "# Some of our models require the input data to be normalized, \n",
    "# so I proceed to normalize the attribute data. Here, I use preprocessing.MinMaxScaler().\n",
    "\n",
    "from sklearn.preprocessing import MinMaxScaler\n",
    "\n",
    "scaler = MinMaxScaler()\n",
    "numerical = ['age', 'result']\n",
    "\n",
    "features_minmax_transform = pd.DataFrame(data = features_raw)\n",
    "features_minmax_transform[numerical] = scaler.fit_transform(features_raw[numerical])\n",
    "features_minmax_transform"
   ]
  },
  {
   "cell_type": "code",
   "execution_count": 16,
   "id": "e2ae55ff",
   "metadata": {},
   "outputs": [
    {
     "data": {
      "text/html": [
       "<div>\n",
       "<style scoped>\n",
       "    .dataframe tbody tr th:only-of-type {\n",
       "        vertical-align: middle;\n",
       "    }\n",
       "\n",
       "    .dataframe tbody tr th {\n",
       "        vertical-align: top;\n",
       "    }\n",
       "\n",
       "    .dataframe thead th {\n",
       "        text-align: right;\n",
       "    }\n",
       "</style>\n",
       "<table border=\"1\" class=\"dataframe\">\n",
       "  <thead>\n",
       "    <tr style=\"text-align: right;\">\n",
       "      <th></th>\n",
       "      <th>age</th>\n",
       "      <th>result</th>\n",
       "      <th>A1_Score</th>\n",
       "      <th>A2_Score</th>\n",
       "      <th>A3_Score</th>\n",
       "      <th>A4_Score</th>\n",
       "      <th>A5_Score</th>\n",
       "      <th>A6_Score</th>\n",
       "      <th>A7_Score</th>\n",
       "      <th>A8_Score</th>\n",
       "      <th>...</th>\n",
       "      <th>contry_of_res_South Africa</th>\n",
       "      <th>contry_of_res_United Arab Emirates</th>\n",
       "      <th>contry_of_res_United Kingdom</th>\n",
       "      <th>contry_of_res_United States</th>\n",
       "      <th>contry_of_res_Viet Nam</th>\n",
       "      <th>relation_Health care professional</th>\n",
       "      <th>relation_Others</th>\n",
       "      <th>relation_Parent</th>\n",
       "      <th>relation_Relative</th>\n",
       "      <th>relation_Self</th>\n",
       "    </tr>\n",
       "  </thead>\n",
       "  <tbody>\n",
       "    <tr>\n",
       "      <th>0</th>\n",
       "      <td>0.75</td>\n",
       "      <td>0.555556</td>\n",
       "      <td>0</td>\n",
       "      <td>0</td>\n",
       "      <td>0</td>\n",
       "      <td>1</td>\n",
       "      <td>1</td>\n",
       "      <td>1</td>\n",
       "      <td>1</td>\n",
       "      <td>1</td>\n",
       "      <td>...</td>\n",
       "      <td>False</td>\n",
       "      <td>False</td>\n",
       "      <td>False</td>\n",
       "      <td>False</td>\n",
       "      <td>False</td>\n",
       "      <td>False</td>\n",
       "      <td>False</td>\n",
       "      <td>True</td>\n",
       "      <td>False</td>\n",
       "      <td>False</td>\n",
       "    </tr>\n",
       "    <tr>\n",
       "      <th>1</th>\n",
       "      <td>0.75</td>\n",
       "      <td>0.111111</td>\n",
       "      <td>0</td>\n",
       "      <td>0</td>\n",
       "      <td>0</td>\n",
       "      <td>0</td>\n",
       "      <td>0</td>\n",
       "      <td>0</td>\n",
       "      <td>0</td>\n",
       "      <td>0</td>\n",
       "      <td>...</td>\n",
       "      <td>False</td>\n",
       "      <td>False</td>\n",
       "      <td>False</td>\n",
       "      <td>False</td>\n",
       "      <td>False</td>\n",
       "      <td>False</td>\n",
       "      <td>False</td>\n",
       "      <td>False</td>\n",
       "      <td>True</td>\n",
       "      <td>False</td>\n",
       "    </tr>\n",
       "    <tr>\n",
       "      <th>3</th>\n",
       "      <td>0.50</td>\n",
       "      <td>0.666667</td>\n",
       "      <td>0</td>\n",
       "      <td>1</td>\n",
       "      <td>1</td>\n",
       "      <td>1</td>\n",
       "      <td>1</td>\n",
       "      <td>1</td>\n",
       "      <td>0</td>\n",
       "      <td>1</td>\n",
       "      <td>...</td>\n",
       "      <td>False</td>\n",
       "      <td>False</td>\n",
       "      <td>True</td>\n",
       "      <td>False</td>\n",
       "      <td>False</td>\n",
       "      <td>False</td>\n",
       "      <td>False</td>\n",
       "      <td>False</td>\n",
       "      <td>False</td>\n",
       "      <td>True</td>\n",
       "    </tr>\n",
       "    <tr>\n",
       "      <th>7</th>\n",
       "      <td>0.75</td>\n",
       "      <td>0.666667</td>\n",
       "      <td>1</td>\n",
       "      <td>1</td>\n",
       "      <td>0</td>\n",
       "      <td>1</td>\n",
       "      <td>1</td>\n",
       "      <td>0</td>\n",
       "      <td>1</td>\n",
       "      <td>1</td>\n",
       "      <td>...</td>\n",
       "      <td>False</td>\n",
       "      <td>False</td>\n",
       "      <td>False</td>\n",
       "      <td>False</td>\n",
       "      <td>False</td>\n",
       "      <td>False</td>\n",
       "      <td>False</td>\n",
       "      <td>True</td>\n",
       "      <td>False</td>\n",
       "      <td>False</td>\n",
       "    </tr>\n",
       "    <tr>\n",
       "      <th>8</th>\n",
       "      <td>0.00</td>\n",
       "      <td>0.555556</td>\n",
       "      <td>1</td>\n",
       "      <td>1</td>\n",
       "      <td>1</td>\n",
       "      <td>1</td>\n",
       "      <td>1</td>\n",
       "      <td>1</td>\n",
       "      <td>0</td>\n",
       "      <td>0</td>\n",
       "      <td>...</td>\n",
       "      <td>False</td>\n",
       "      <td>False</td>\n",
       "      <td>False</td>\n",
       "      <td>False</td>\n",
       "      <td>False</td>\n",
       "      <td>False</td>\n",
       "      <td>False</td>\n",
       "      <td>True</td>\n",
       "      <td>False</td>\n",
       "      <td>False</td>\n",
       "    </tr>\n",
       "  </tbody>\n",
       "</table>\n",
       "<p>5 rows × 63 columns</p>\n",
       "</div>"
      ],
      "text/plain": [
       "    age    result  A1_Score  A2_Score  A3_Score  A4_Score  A5_Score  A6_Score  \\\n",
       "0  0.75  0.555556         0         0         0         1         1         1   \n",
       "1  0.75  0.111111         0         0         0         0         0         0   \n",
       "3  0.50  0.666667         0         1         1         1         1         1   \n",
       "7  0.75  0.666667         1         1         0         1         1         0   \n",
       "8  0.00  0.555556         1         1         1         1         1         1   \n",
       "\n",
       "   A7_Score  A8_Score  ...  contry_of_res_South Africa  \\\n",
       "0         1         1  ...                       False   \n",
       "1         0         0  ...                       False   \n",
       "3         0         1  ...                       False   \n",
       "7         1         1  ...                       False   \n",
       "8         0         0  ...                       False   \n",
       "\n",
       "   contry_of_res_United Arab Emirates  contry_of_res_United Kingdom  \\\n",
       "0                               False                         False   \n",
       "1                               False                         False   \n",
       "3                               False                          True   \n",
       "7                               False                         False   \n",
       "8                               False                         False   \n",
       "\n",
       "   contry_of_res_United States  contry_of_res_Viet Nam  \\\n",
       "0                        False                   False   \n",
       "1                        False                   False   \n",
       "3                        False                   False   \n",
       "7                        False                   False   \n",
       "8                        False                   False   \n",
       "\n",
       "   relation_Health care professional  relation_Others  relation_Parent  \\\n",
       "0                              False            False             True   \n",
       "1                              False            False            False   \n",
       "3                              False            False            False   \n",
       "7                              False            False             True   \n",
       "8                              False            False             True   \n",
       "\n",
       "   relation_Relative  relation_Self  \n",
       "0              False          False  \n",
       "1               True          False  \n",
       "3              False           True  \n",
       "7              False          False  \n",
       "8              False          False  \n",
       "\n",
       "[5 rows x 63 columns]"
      ]
     },
     "metadata": {},
     "output_type": "display_data"
    }
   ],
   "source": [
    "# One-Hot encoding\n",
    "\n",
    "features_final = pd.get_dummies(features_minmax_transform)\n",
    "display(features_final.head(5))"
   ]
  },
  {
   "cell_type": "code",
   "execution_count": 17,
   "id": "aa935975",
   "metadata": {},
   "outputs": [
    {
     "name": "stdout",
     "output_type": "stream",
     "text": [
      "63 total features after one-hot encoding.\n"
     ]
    }
   ],
   "source": [
    "# Encode the 'all_classes_raw' data to numerical values\n",
    "asd_classes = asd_raw.apply(lambda x: 1 if x == 'YES' else 0)\n",
    "\n",
    "# Print the number of features after one-hot encoding\n",
    "encoded = list(features_final.columns)\n",
    "print(\"{} total features after one-hot encoding.\".format(len(encoded)))"
   ]
  },
  {
   "cell_type": "code",
   "execution_count": 18,
   "id": "1af1f25f",
   "metadata": {},
   "outputs": [
    {
     "data": {
      "text/plain": [
       "Text(0, 0.5, 'Frequency')"
      ]
     },
     "execution_count": 18,
     "metadata": {},
     "output_type": "execute_result"
    },
    {
     "data": {
      "image/png": "[encoded data removed]",
      "text/plain": [
       "<Figure size 640x480 with 1 Axes>"
      ]
     },
     "metadata": {},
     "output_type": "display_data"
    }
   ],
   "source": [
    "#visualization of classes asd_data dataset\n",
    "\n",
    "import matplotlib.pyplot as plt\n",
    "\n",
    "plt.hist(asd_classes, bins=10)\n",
    "\n",
    "plt.xlim(0,1)\n",
    "plt.title('Histogram of Class/ASD')\n",
    "plt.xlabel('Class/ASD from processed data')\n",
    "plt.ylabel('Frequency')"
   ]
  },
  {
   "cell_type": "markdown",
   "id": "6b5a0a90",
   "metadata": {},
   "source": [
    "# Shuffle and split data "
   ]
  },
  {
   "cell_type": "code",
   "execution_count": 19,
   "id": "9fc8bf83",
   "metadata": {},
   "outputs": [],
   "source": [
    "\n",
    "from sklearn.model_selection import train_test_split\n",
    "\n",
    "X_train, X_test, y_train, y_test = train_test_split(features_final, asd_classes, train_size=0.80, random_state=1)"
   ]
  },
  {
   "cell_type": "code",
   "execution_count": 20,
   "id": "9d435888",
   "metadata": {},
   "outputs": [
    {
     "name": "stdout",
     "output_type": "stream",
     "text": [
      "Number of samples in Training set :  78\n",
      "Number of samples in testing set :  20\n"
     ]
    }
   ],
   "source": [
    "print(\"Number of samples in Training set : \", X_train.shape[0])\n",
    "print(\"Number of samples in testing set : \", X_test.shape[0])"
   ]
  },
  {
   "cell_type": "markdown",
   "id": "386df90a",
   "metadata": {},
   "source": [
    "# Machine Learning Techniques"
   ]
  },
  {
   "cell_type": "markdown",
   "id": "1db5eef5",
   "metadata": {},
   "source": [
    "## Logistic Regresion "
   ]
  },
  {
   "cell_type": "code",
   "execution_count": 21,
   "id": "62539406",
   "metadata": {},
   "outputs": [
    {
     "data": {
      "text/plain": [
       "array([1, 1, 1, 1, 1, 1, 0, 1, 0, 0, 1, 1, 1, 0, 1, 0, 0, 1, 0, 1],\n",
       "      dtype=int64)"
      ]
     },
     "execution_count": 21,
     "metadata": {},
     "output_type": "execute_result"
    }
   ],
   "source": [
    "from sklearn.linear_model import LogisticRegression\n",
    "\n",
    "lr = LogisticRegression()\n",
    "lr.fit(X_train, y_train)\n",
    "y_pred_class = lr.predict(X_test)\n",
    "lr.predict(X_test)"
   ]
  },
  {
   "cell_type": "code",
   "execution_count": 22,
   "id": "bdf31292",
   "metadata": {},
   "outputs": [
    {
     "name": "stdout",
     "output_type": "stream",
     "text": [
      "[[ 6  1]\n",
      " [ 1 12]]\n"
     ]
    },
    {
     "data": {
      "image/png": "[encoded data removed]",
      "text/plain": [
       "<Figure size 480x480 with 2 Axes>"
      ]
     },
     "metadata": {},
     "output_type": "display_data"
    }
   ],
   "source": [
    "#confusion matrix\n",
    "\n",
    "from sklearn import metrics\n",
    "confusion = metrics.confusion_matrix(y_test, y_pred_class)\n",
    "print(confusion)\n",
    "TP = confusion[1, 1]\n",
    "TN = confusion[0, 0]\n",
    "FP = confusion[0, 1]\n",
    "FN = confusion[1, 0]\n",
    "\n",
    "\n",
    "plt.matshow(confusion)\n",
    "plt.title('Logistic Regression Confusion matrix',y=1.20)\n",
    "plt.colorbar()\n",
    "plt.ylabel('True label')\n",
    "plt.xlabel('Predicted label')\n",
    "plt.show()"
   ]
  },
  {
   "cell_type": "code",
   "execution_count": 23,
   "id": "d90ea50e",
   "metadata": {},
   "outputs": [
    {
     "name": "stdout",
     "output_type": "stream",
     "text": [
      "Classification Accuracy : 0.9\n",
      "Classification Error : 0.1\n",
      "Senstivity : 0.9230769230769231\n",
      "Specificity : 0.8571428571428571\n",
      "False Positive Rate : 0.14285714285714285\n",
      "Precision : 0.9230769230769231\n"
     ]
    }
   ],
   "source": [
    "print(\"Classification Accuracy :\", (TP + TN) / float(TP + TN + FP + FN))\n",
    "print(\"Classification Error :\", (FP + FN) / float(TP + TN + FP + FN))\n",
    "print(\"Senstivity :\", TP / float(FN + TP))\n",
    "print(\"Specificity :\", TN / (TN + FP))\n",
    "print(\"False Positive Rate :\", FP / float(TN + FP))\n",
    "print(\"Precision :\", TP / float(TP + FP))"
   ]
  },
  {
   "cell_type": "code",
   "execution_count": 24,
   "id": "0e8a0466",
   "metadata": {},
   "outputs": [
    {
     "data": {
      "text/plain": [
       "0.9230769230769231"
      ]
     },
     "execution_count": 24,
     "metadata": {},
     "output_type": "execute_result"
    }
   ],
   "source": [
    "#F1 score\n",
    "from sklearn.metrics import f1_score\n",
    "predictions_test = lr.predict(X_test)\n",
    "f1_score(y_test,predictions_test)"
   ]
  },
  {
   "cell_type": "code",
   "execution_count": 25,
   "id": "c75cc642",
   "metadata": {},
   "outputs": [
    {
     "data": {
      "text/plain": [
       "0.9230769230769231"
      ]
     },
     "execution_count": 25,
     "metadata": {},
     "output_type": "execute_result"
    }
   ],
   "source": [
    "#F- beta score\n",
    "\n",
    "from sklearn.metrics import fbeta_score\n",
    "predictions_test = lr.predict(X_test)\n",
    "fbeta_score(y_test, predictions_test, average='binary', beta=0.5)"
   ]
  },
  {
   "cell_type": "markdown",
   "id": "14c9596d",
   "metadata": {},
   "source": [
    "# Decision Tree"
   ]
  },
  {
   "cell_type": "code",
   "execution_count": 26,
   "id": "137b879e",
   "metadata": {},
   "outputs": [
    {
     "data": {
      "text/html": [
       "<style>#sk-container-id-1 {\n",
       "  /* Definition of color scheme common for light and dark mode */\n",
       "  --sklearn-color-text: black;\n",
       "  --sklearn-color-line: gray;\n",
       "  /* Definition of color scheme for unfitted estimators */\n",
       "  --sklearn-color-unfitted-level-0: #fff5e6;\n",
       "  --sklearn-color-unfitted-level-1: #f6e4d2;\n",
       "  --sklearn-color-unfitted-level-2: #ffe0b3;\n",
       "  --sklearn-color-unfitted-level-3: chocolate;\n",
       "  /* Definition of color scheme for fitted estimators */\n",
       "  --sklearn-color-fitted-level-0: #f0f8ff;\n",
       "  --sklearn-color-fitted-level-1: #d4ebff;\n",
       "  --sklearn-color-fitted-level-2: #b3dbfd;\n",
       "  --sklearn-color-fitted-level-3: cornflowerblue;\n",
       "\n",
       "  /* Specific color for light theme */\n",
       "  --sklearn-color-text-on-default-background: var(--sg-text-color, var(--theme-code-foreground, var(--jp-content-font-color1, black)));\n",
       "  --sklearn-color-background: var(--sg-background-color, var(--theme-background, var(--jp-layout-color0, white)));\n",
       "  --sklearn-color-border-box: var(--sg-text-color, var(--theme-code-foreground, var(--jp-content-font-color1, black)));\n",
       "  --sklearn-color-icon: #696969;\n",
       "\n",
       "  @media (prefers-color-scheme: dark) {\n",
       "    /* Redefinition of color scheme for dark theme */\n",
       "    --sklearn-color-text-on-default-background: var(--sg-text-color, var(--theme-code-foreground, var(--jp-content-font-color1, white)));\n",
       "    --sklearn-color-background: var(--sg-background-color, var(--theme-background, var(--jp-layout-color0, #111)));\n",
       "    --sklearn-color-border-box: var(--sg-text-color, var(--theme-code-foreground, var(--jp-content-font-color1, white)));\n",
       "    --sklearn-color-icon: #878787;\n",
       "  }\n",
       "}\n",
       "\n",
       "#sk-container-id-1 {\n",
       "  color: var(--sklearn-color-text);\n",
       "}\n",
       "\n",
       "#sk-container-id-1 pre {\n",
       "  padding: 0;\n",
       "}\n",
       "\n",
       "#sk-container-id-1 input.sk-hidden--visually {\n",
       "  border: 0;\n",
       "  clip: rect(1px 1px 1px 1px);\n",
       "  clip: rect(1px, 1px, 1px, 1px);\n",
       "  height: 1px;\n",
       "  margin: -1px;\n",
       "  overflow: hidden;\n",
       "  padding: 0;\n",
       "  position: absolute;\n",
       "  width: 1px;\n",
       "}\n",
       "\n",
       "#sk-container-id-1 div.sk-dashed-wrapped {\n",
       "  border: 1px dashed var(--sklearn-color-line);\n",
       "  margin: 0 0.4em 0.5em 0.4em;\n",
       "  box-sizing: border-box;\n",
       "  padding-bottom: 0.4em;\n",
       "  background-color: var(--sklearn-color-background);\n",
       "}\n",
       "\n",
       "#sk-container-id-1 div.sk-container {\n",
       "  /* jupyter's `normalize.less` sets `[hidden] { display: none; }`\n",
       "     but bootstrap.min.css set `[hidden] { display: none !important; }`\n",
       "     so we also need the `!important` here to be able to override the\n",
       "     default hidden behavior on the sphinx rendered scikit-learn.org.\n",
       "     See: https://github.com/scikit-learn/scikit-learn/issues/21755 */\n",
       "  display: inline-block !important;\n",
       "  position: relative;\n",
       "}\n",
       "\n",
       "#sk-container-id-1 div.sk-text-repr-fallback {\n",
       "  display: none;\n",
       "}\n",
       "\n",
       "div.sk-parallel-item,\n",
       "div.sk-serial,\n",
       "div.sk-item {\n",
       "  /* draw centered vertical line to link estimators */\n",
       "  background-image: linear-gradient(var(--sklearn-color-text-on-default-background), var(--sklearn-color-text-on-default-background));\n",
       "  background-size: 2px 100%;\n",
       "  background-repeat: no-repeat;\n",
       "  background-position: center center;\n",
       "}\n",
       "\n",
       "/* Parallel-specific style estimator block */\n",
       "\n",
       "#sk-container-id-1 div.sk-parallel-item::after {\n",
       "  content: \"\";\n",
       "  width: 100%;\n",
       "  border-bottom: 2px solid var(--sklearn-color-text-on-default-background);\n",
       "  flex-grow: 1;\n",
       "}\n",
       "\n",
       "#sk-container-id-1 div.sk-parallel {\n",
       "  display: flex;\n",
       "  align-items: stretch;\n",
       "  justify-content: center;\n",
       "  background-color: var(--sklearn-color-background);\n",
       "  position: relative;\n",
       "}\n",
       "\n",
       "#sk-container-id-1 div.sk-parallel-item {\n",
       "  display: flex;\n",
       "  flex-direction: column;\n",
       "}\n",
       "\n",
       "#sk-container-id-1 div.sk-parallel-item:first-child::after {\n",
       "  align-self: flex-end;\n",
       "  width: 50%;\n",
       "}\n",
       "\n",
       "#sk-container-id-1 div.sk-parallel-item:last-child::after {\n",
       "  align-self: flex-start;\n",
       "  width: 50%;\n",
       "}\n",
       "\n",
       "#sk-container-id-1 div.sk-parallel-item:only-child::after {\n",
       "  width: 0;\n",
       "}\n",
       "\n",
       "/* Serial-specific style estimator block */\n",
       "\n",
       "#sk-container-id-1 div.sk-serial {\n",
       "  display: flex;\n",
       "  flex-direction: column;\n",
       "  align-items: center;\n",
       "  background-color: var(--sklearn-color-background);\n",
       "  padding-right: 1em;\n",
       "  padding-left: 1em;\n",
       "}\n",
       "\n",
       "\n",
       "/* Toggleable style: style used for estimator/Pipeline/ColumnTransformer box that is\n",
       "clickable and can be expanded/collapsed.\n",
       "- Pipeline and ColumnTransformer use this feature and define the default style\n",
       "- Estimators will overwrite some part of the style using the `sk-estimator` class\n",
       "*/\n",
       "\n",
       "/* Pipeline and ColumnTransformer style (default) */\n",
       "\n",
       "#sk-container-id-1 div.sk-toggleable {\n",
       "  /* Default theme specific background. It is overwritten whether we have a\n",
       "  specific estimator or a Pipeline/ColumnTransformer */\n",
       "  background-color: var(--sklearn-color-background);\n",
       "}\n",
       "\n",
       "/* Toggleable label */\n",
       "#sk-container-id-1 label.sk-toggleable__label {\n",
       "  cursor: pointer;\n",
       "  display: block;\n",
       "  width: 100%;\n",
       "  margin-bottom: 0;\n",
       "  padding: 0.5em;\n",
       "  box-sizing: border-box;\n",
       "  text-align: center;\n",
       "}\n",
       "\n",
       "#sk-container-id-1 label.sk-toggleable__label-arrow:before {\n",
       "  /* Arrow on the left of the label */\n",
       "  content: \"▸\";\n",
       "  float: left;\n",
       "  margin-right: 0.25em;\n",
       "  color: var(--sklearn-color-icon);\n",
       "}\n",
       "\n",
       "#sk-container-id-1 label.sk-toggleable__label-arrow:hover:before {\n",
       "  color: var(--sklearn-color-text);\n",
       "}\n",
       "\n",
       "/* Toggleable content - dropdown */\n",
       "\n",
       "#sk-container-id-1 div.sk-toggleable__content {\n",
       "  max-height: 0;\n",
       "  max-width: 0;\n",
       "  overflow: hidden;\n",
       "  text-align: left;\n",
       "  /* unfitted */\n",
       "  background-color: var(--sklearn-color-unfitted-level-0);\n",
       "}\n",
       "\n",
       "#sk-container-id-1 div.sk-toggleable__content.fitted {\n",
       "  /* fitted */\n",
       "  background-color: var(--sklearn-color-fitted-level-0);\n",
       "}\n",
       "\n",
       "#sk-container-id-1 div.sk-toggleable__content pre {\n",
       "  margin: 0.2em;\n",
       "  border-radius: 0.25em;\n",
       "  color: var(--sklearn-color-text);\n",
       "  /* unfitted */\n",
       "  background-color: var(--sklearn-color-unfitted-level-0);\n",
       "}\n",
       "\n",
       "#sk-container-id-1 div.sk-toggleable__content.fitted pre {\n",
       "  /* unfitted */\n",
       "  background-color: var(--sklearn-color-fitted-level-0);\n",
       "}\n",
       "\n",
       "#sk-container-id-1 input.sk-toggleable__control:checked~div.sk-toggleable__content {\n",
       "  /* Expand drop-down */\n",
       "  max-height: 200px;\n",
       "  max-width: 100%;\n",
       "  overflow: auto;\n",
       "}\n",
       "\n",
       "#sk-container-id-1 input.sk-toggleable__control:checked~label.sk-toggleable__label-arrow:before {\n",
       "  content: \"▾\";\n",
       "}\n",
       "\n",
       "/* Pipeline/ColumnTransformer-specific style */\n",
       "\n",
       "#sk-container-id-1 div.sk-label input.sk-toggleable__control:checked~label.sk-toggleable__label {\n",
       "  color: var(--sklearn-color-text);\n",
       "  background-color: var(--sklearn-color-unfitted-level-2);\n",
       "}\n",
       "\n",
       "#sk-container-id-1 div.sk-label.fitted input.sk-toggleable__control:checked~label.sk-toggleable__label {\n",
       "  background-color: var(--sklearn-color-fitted-level-2);\n",
       "}\n",
       "\n",
       "/* Estimator-specific style */\n",
       "\n",
       "/* Colorize estimator box */\n",
       "#sk-container-id-1 div.sk-estimator input.sk-toggleable__control:checked~label.sk-toggleable__label {\n",
       "  /* unfitted */\n",
       "  background-color: var(--sklearn-color-unfitted-level-2);\n",
       "}\n",
       "\n",
       "#sk-container-id-1 div.sk-estimator.fitted input.sk-toggleable__control:checked~label.sk-toggleable__label {\n",
       "  /* fitted */\n",
       "  background-color: var(--sklearn-color-fitted-level-2);\n",
       "}\n",
       "\n",
       "#sk-container-id-1 div.sk-label label.sk-toggleable__label,\n",
       "#sk-container-id-1 div.sk-label label {\n",
       "  /* The background is the default theme color */\n",
       "  color: var(--sklearn-color-text-on-default-background);\n",
       "}\n",
       "\n",
       "/* On hover, darken the color of the background */\n",
       "#sk-container-id-1 div.sk-label:hover label.sk-toggleable__label {\n",
       "  color: var(--sklearn-color-text);\n",
       "  background-color: var(--sklearn-color-unfitted-level-2);\n",
       "}\n",
       "\n",
       "/* Label box, darken color on hover, fitted */\n",
       "#sk-container-id-1 div.sk-label.fitted:hover label.sk-toggleable__label.fitted {\n",
       "  color: var(--sklearn-color-text);\n",
       "  background-color: var(--sklearn-color-fitted-level-2);\n",
       "}\n",
       "\n",
       "/* Estimator label */\n",
       "\n",
       "#sk-container-id-1 div.sk-label label {\n",
       "  font-family: monospace;\n",
       "  font-weight: bold;\n",
       "  display: inline-block;\n",
       "  line-height: 1.2em;\n",
       "}\n",
       "\n",
       "#sk-container-id-1 div.sk-label-container {\n",
       "  text-align: center;\n",
       "}\n",
       "\n",
       "/* Estimator-specific */\n",
       "#sk-container-id-1 div.sk-estimator {\n",
       "  font-family: monospace;\n",
       "  border: 1px dotted var(--sklearn-color-border-box);\n",
       "  border-radius: 0.25em;\n",
       "  box-sizing: border-box;\n",
       "  margin-bottom: 0.5em;\n",
       "  /* unfitted */\n",
       "  background-color: var(--sklearn-color-unfitted-level-0);\n",
       "}\n",
       "\n",
       "#sk-container-id-1 div.sk-estimator.fitted {\n",
       "  /* fitted */\n",
       "  background-color: var(--sklearn-color-fitted-level-0);\n",
       "}\n",
       "\n",
       "/* on hover */\n",
       "#sk-container-id-1 div.sk-estimator:hover {\n",
       "  /* unfitted */\n",
       "  background-color: var(--sklearn-color-unfitted-level-2);\n",
       "}\n",
       "\n",
       "#sk-container-id-1 div.sk-estimator.fitted:hover {\n",
       "  /* fitted */\n",
       "  background-color: var(--sklearn-color-fitted-level-2);\n",
       "}\n",
       "\n",
       "/* Specification for estimator info (e.g. \"i\" and \"?\") */\n",
       "\n",
       "/* Common style for \"i\" and \"?\" */\n",
       "\n",
       ".sk-estimator-doc-link,\n",
       "a:link.sk-estimator-doc-link,\n",
       "a:visited.sk-estimator-doc-link {\n",
       "  float: right;\n",
       "  font-size: smaller;\n",
       "  line-height: 1em;\n",
       "  font-family: monospace;\n",
       "  background-color: var(--sklearn-color-background);\n",
       "  border-radius: 1em;\n",
       "  height: 1em;\n",
       "  width: 1em;\n",
       "  text-decoration: none !important;\n",
       "  margin-left: 1ex;\n",
       "  /* unfitted */\n",
       "  border: var(--sklearn-color-unfitted-level-1) 1pt solid;\n",
       "  color: var(--sklearn-color-unfitted-level-1);\n",
       "}\n",
       "\n",
       ".sk-estimator-doc-link.fitted,\n",
       "a:link.sk-estimator-doc-link.fitted,\n",
       "a:visited.sk-estimator-doc-link.fitted {\n",
       "  /* fitted */\n",
       "  border: var(--sklearn-color-fitted-level-1) 1pt solid;\n",
       "  color: var(--sklearn-color-fitted-level-1);\n",
       "}\n",
       "\n",
       "/* On hover */\n",
       "div.sk-estimator:hover .sk-estimator-doc-link:hover,\n",
       ".sk-estimator-doc-link:hover,\n",
       "div.sk-label-container:hover .sk-estimator-doc-link:hover,\n",
       ".sk-estimator-doc-link:hover {\n",
       "  /* unfitted */\n",
       "  background-color: var(--sklearn-color-unfitted-level-3);\n",
       "  color: var(--sklearn-color-background);\n",
       "  text-decoration: none;\n",
       "}\n",
       "\n",
       "div.sk-estimator.fitted:hover .sk-estimator-doc-link.fitted:hover,\n",
       ".sk-estimator-doc-link.fitted:hover,\n",
       "div.sk-label-container:hover .sk-estimator-doc-link.fitted:hover,\n",
       ".sk-estimator-doc-link.fitted:hover {\n",
       "  /* fitted */\n",
       "  background-color: var(--sklearn-color-fitted-level-3);\n",
       "  color: var(--sklearn-color-background);\n",
       "  text-decoration: none;\n",
       "}\n",
       "\n",
       "/* Span, style for the box shown on hovering the info icon */\n",
       ".sk-estimator-doc-link span {\n",
       "  display: none;\n",
       "  z-index: 9999;\n",
       "  position: relative;\n",
       "  font-weight: normal;\n",
       "  right: .2ex;\n",
       "  padding: .5ex;\n",
       "  margin: .5ex;\n",
       "  width: min-content;\n",
       "  min-width: 20ex;\n",
       "  max-width: 50ex;\n",
       "  color: var(--sklearn-color-text);\n",
       "  box-shadow: 2pt 2pt 4pt #999;\n",
       "  /* unfitted */\n",
       "  background: var(--sklearn-color-unfitted-level-0);\n",
       "  border: .5pt solid var(--sklearn-color-unfitted-level-3);\n",
       "}\n",
       "\n",
       ".sk-estimator-doc-link.fitted span {\n",
       "  /* fitted */\n",
       "  background: var(--sklearn-color-fitted-level-0);\n",
       "  border: var(--sklearn-color-fitted-level-3);\n",
       "}\n",
       "\n",
       ".sk-estimator-doc-link:hover span {\n",
       "  display: block;\n",
       "}\n",
       "\n",
       "/* \"?\"-specific style due to the `<a>` HTML tag */\n",
       "\n",
       "#sk-container-id-1 a.estimator_doc_link {\n",
       "  float: right;\n",
       "  font-size: 1rem;\n",
       "  line-height: 1em;\n",
       "  font-family: monospace;\n",
       "  background-color: var(--sklearn-color-background);\n",
       "  border-radius: 1rem;\n",
       "  height: 1rem;\n",
       "  width: 1rem;\n",
       "  text-decoration: none;\n",
       "  /* unfitted */\n",
       "  color: var(--sklearn-color-unfitted-level-1);\n",
       "  border: var(--sklearn-color-unfitted-level-1) 1pt solid;\n",
       "}\n",
       "\n",
       "#sk-container-id-1 a.estimator_doc_link.fitted {\n",
       "  /* fitted */\n",
       "  border: var(--sklearn-color-fitted-level-1) 1pt solid;\n",
       "  color: var(--sklearn-color-fitted-level-1);\n",
       "}\n",
       "\n",
       "/* On hover */\n",
       "#sk-container-id-1 a.estimator_doc_link:hover {\n",
       "  /* unfitted */\n",
       "  background-color: var(--sklearn-color-unfitted-level-3);\n",
       "  color: var(--sklearn-color-background);\n",
       "  text-decoration: none;\n",
       "}\n",
       "\n",
       "#sk-container-id-1 a.estimator_doc_link.fitted:hover {\n",
       "  /* fitted */\n",
       "  background-color: var(--sklearn-color-fitted-level-3);\n",
       "}\n",
       "</style><div id=\"sk-container-id-1\" class=\"sk-top-container\"><div class=\"sk-text-repr-fallback\"><pre>DecisionTreeClassifier(random_state=1)</pre><b>In a Jupyter environment, please rerun this cell to show the HTML representation or trust the notebook. <br />On GitHub, the HTML representation is unable to render, please try loading this page with nbviewer.org.</b></div><div class=\"sk-container\" hidden><div class=\"sk-item\"><div class=\"sk-estimator fitted sk-toggleable\"><input class=\"sk-toggleable__control sk-hidden--visually\" id=\"sk-estimator-id-1\" type=\"checkbox\" checked><label for=\"sk-estimator-id-1\" class=\"sk-toggleable__label fitted sk-toggleable__label-arrow fitted\">&nbsp;&nbsp;DecisionTreeClassifier<a class=\"sk-estimator-doc-link fitted\" rel=\"noreferrer\" target=\"_blank\" href=\"https://scikit-learn.org/1.5/modules/generated/sklearn.tree.DecisionTreeClassifier.html\">?<span>Documentation for DecisionTreeClassifier</span></a><span class=\"sk-estimator-doc-link fitted\">i<span>Fitted</span></span></label><div class=\"sk-toggleable__content fitted\"><pre>DecisionTreeClassifier(random_state=1)</pre></div> </div></div></div></div>"
      ],
      "text/plain": [
       "DecisionTreeClassifier(random_state=1)"
      ]
     },
     "execution_count": 26,
     "metadata": {},
     "output_type": "execute_result"
    }
   ],
   "source": [
    "from sklearn import tree\n",
    "from sklearn.tree import DecisionTreeClassifier\n",
    "\n",
    "dtc = DecisionTreeClassifier(random_state=1)\n",
    "\n",
    "# Train the classifier on the training set\n",
    "dtc.fit(X_train, y_train)"
   ]
  },
  {
   "cell_type": "code",
   "execution_count": 27,
   "id": "d0c40707",
   "metadata": {},
   "outputs": [
    {
     "data": {
      "text/plain": [
       "array([1, 0, 1, 1, 1, 1, 0, 1, 1, 0, 1, 1, 1, 0, 1, 0, 0, 1, 0, 1],\n",
       "      dtype=int64)"
      ]
     },
     "execution_count": 27,
     "metadata": {},
     "output_type": "execute_result"
    }
   ],
   "source": [
    "dtc.predict(X_test)"
   ]
  },
  {
   "cell_type": "code",
   "execution_count": 28,
   "id": "33657d6f",
   "metadata": {},
   "outputs": [
    {
     "name": "stdout",
     "output_type": "stream",
     "text": [
      "[[ 6  1]\n",
      " [ 1 12]]\n"
     ]
    },
    {
     "data": {
      "image/png": "[encoded data removed]",
      "text/plain": [
       "<Figure size 480x480 with 2 Axes>"
      ]
     },
     "metadata": {},
     "output_type": "display_data"
    }
   ],
   "source": [
    "#confusion matrix\n",
    "\n",
    "from sklearn import metrics\n",
    "confusion = metrics.confusion_matrix(y_test, y_pred_class)\n",
    "print(confusion)\n",
    "TP = confusion[1, 1]\n",
    "TN = confusion[0, 0]\n",
    "FP = confusion[0, 1]\n",
    "FN = confusion[1, 0]\n",
    "\n",
    "plt.matshow(confusion)\n",
    "plt.title('Decision Tree Confusion matrix',y=1.20)\n",
    "plt.colorbar()\n",
    "plt.ylabel('True label')\n",
    "plt.xlabel('Predicted label')\n",
    "plt.show()\n"
   ]
  },
  {
   "cell_type": "code",
   "execution_count": 29,
   "id": "86952acc",
   "metadata": {},
   "outputs": [
    {
     "name": "stdout",
     "output_type": "stream",
     "text": [
      "Classification Accuracy : 0.9\n",
      "Classification Error : 0.1\n",
      "Senstivity : 0.9230769230769231\n",
      "Specificity : 0.8571428571428571\n",
      "False Positive Rate : 0.14285714285714285\n",
      "Precision : 0.9230769230769231\n"
     ]
    }
   ],
   "source": [
    "print(\"Classification Accuracy :\", (TP + TN) / float(TP + TN + FP + FN))\n",
    "print(\"Classification Error :\", (FP + FN) / float(TP + TN + FP + FN))\n",
    "print(\"Senstivity :\", TP / float(FN + TP))\n",
    "print(\"Specificity :\", TN / (TN + FP))\n",
    "print(\"False Positive Rate :\", FP / float(TN + FP))\n",
    "print(\"Precision :\", TP / float(TP + FP))"
   ]
  },
  {
   "cell_type": "code",
   "execution_count": 30,
   "id": "9f6f0536",
   "metadata": {},
   "outputs": [
    {
     "data": {
      "text/plain": [
       "1.0"
      ]
     },
     "execution_count": 30,
     "metadata": {},
     "output_type": "execute_result"
    }
   ],
   "source": [
    "#F1 score\n",
    "from sklearn.metrics import f1_score\n",
    "predictions_test = dtc.predict(X_test)\n",
    "f1_score(y_test,predictions_test)"
   ]
  },
  {
   "cell_type": "code",
   "execution_count": 31,
   "id": "ce1e3663",
   "metadata": {},
   "outputs": [
    {
     "data": {
      "text/plain": [
       "1.0"
      ]
     },
     "execution_count": 31,
     "metadata": {},
     "output_type": "execute_result"
    }
   ],
   "source": [
    "#F- beta score\n",
    "\n",
    "from sklearn.metrics import fbeta_score\n",
    "predictions_test = dtc.predict(X_test)\n",
    "fbeta_score(y_test, predictions_test, average='binary', beta=0.5)"
   ]
  },
  {
   "cell_type": "markdown",
   "id": "858dafc7",
   "metadata": {},
   "source": [
    "## K- Nearest Neighbor "
   ]
  },
  {
   "cell_type": "code",
   "execution_count": 32,
   "id": "09292b11",
   "metadata": {},
   "outputs": [
    {
     "data": {
      "text/plain": [
       "array([1, 1, 1, 1, 1, 1, 0, 1, 1, 1, 1, 1, 1, 0, 1, 1, 1, 1, 1, 1],\n",
       "      dtype=int64)"
      ]
     },
     "execution_count": 32,
     "metadata": {},
     "output_type": "execute_result"
    }
   ],
   "source": [
    "from sklearn.neighbors import KNeighborsClassifier\n",
    "\n",
    "\n",
    "knn = KNeighborsClassifier(n_neighbors = 10)\n",
    "knn.fit(X_train.values, y_train.values)\n",
    "y_pred_class = knn.predict(X_test.values)\n",
    "knn.predict(X_test.values)"
   ]
  },
  {
   "cell_type": "code",
   "execution_count": 33,
   "id": "69ed1ef8",
   "metadata": {},
   "outputs": [
    {
     "name": "stdout",
     "output_type": "stream",
     "text": [
      "[[ 2  5]\n",
      " [ 0 13]]\n"
     ]
    },
    {
     "data": {
      "image/png": "[encoded data removed]",
      "text/plain": [
       "<Figure size 480x480 with 2 Axes>"
      ]
     },
     "metadata": {},
     "output_type": "display_data"
    }
   ],
   "source": [
    "#confusion matrix\n",
    "\n",
    "from sklearn import metrics\n",
    "confusion = metrics.confusion_matrix(y_test, y_pred_class)\n",
    "print(confusion)\n",
    "TP = confusion[1, 1]\n",
    "TN = confusion[0, 0]\n",
    "FP = confusion[0, 1]\n",
    "FN = confusion[1, 0]\n",
    "\n",
    "\n",
    "plt.matshow(confusion)\n",
    "plt.title('KNN Confusion matrix',y=1.20)\n",
    "plt.colorbar()\n",
    "plt.ylabel('True label')\n",
    "plt.xlabel('Predicted label')\n",
    "plt.show()"
   ]
  },
  {
   "cell_type": "code",
   "execution_count": 34,
   "id": "8d5afc11",
   "metadata": {
    "scrolled": true
   },
   "outputs": [
    {
     "name": "stdout",
     "output_type": "stream",
     "text": [
      "Classification Accuracy : 0.75\n",
      "Classification Error : 0.25\n",
      "Senstivity : 1.0\n",
      "Specificity : 0.2857142857142857\n",
      "False Positive Rate : 0.7142857142857143\n",
      "Precision : 0.7222222222222222\n"
     ]
    }
   ],
   "source": [
    "print(\"Classification Accuracy :\", (TP + TN) / float(TP + TN + FP + FN))\n",
    "print(\"Classification Error :\", (FP + FN) / float(TP + TN + FP + FN))\n",
    "print(\"Senstivity :\", TP / float(FN + TP))\n",
    "print(\"Specificity :\", TN / (TN + FP))\n",
    "print(\"False Positive Rate :\", FP / float(TN + FP))\n",
    "print(\"Precision :\", TP / float(TP + FP))"
   ]
  },
  {
   "cell_type": "code",
   "execution_count": 35,
   "id": "541b28a2",
   "metadata": {},
   "outputs": [
    {
     "data": {
      "text/plain": [
       "0.8055555555555556"
      ]
     },
     "execution_count": 35,
     "metadata": {},
     "output_type": "execute_result"
    }
   ],
   "source": [
    "#cross validation\n",
    "\n",
    "from sklearn.model_selection import cross_val_score\n",
    "\n",
    "cv_scores = cross_val_score(knn, features_final.values, asd_classes.values, cv=10)\n",
    "\n",
    "cv_scores.mean()"
   ]
  },
  {
   "cell_type": "code",
   "execution_count": 36,
   "id": "f71a52fc",
   "metadata": {},
   "outputs": [
    {
     "data": {
      "text/plain": [
       "0.8387096774193549"
      ]
     },
     "execution_count": 36,
     "metadata": {},
     "output_type": "execute_result"
    }
   ],
   "source": [
    "#F1 score\n",
    "from sklearn.metrics import f1_score\n",
    "predictions_test = knn.predict(X_test.values)\n",
    "f1_score(y_test,predictions_test)"
   ]
  },
  {
   "cell_type": "code",
   "execution_count": 37,
   "id": "d766e729",
   "metadata": {},
   "outputs": [
    {
     "data": {
      "text/plain": [
       "0.7647058823529411"
      ]
     },
     "execution_count": 37,
     "metadata": {},
     "output_type": "execute_result"
    }
   ],
   "source": [
    "#F- beta score\n",
    "\n",
    "from sklearn.metrics import fbeta_score\n",
    "predictions_test = knn.predict(X_test.values)\n",
    "fbeta_score(y_test, predictions_test, average='binary', beta=0.5)"
   ]
  },
  {
   "cell_type": "code",
   "execution_count": 38,
   "id": "11b68a27",
   "metadata": {},
   "outputs": [
    {
     "name": "stdout",
     "output_type": "stream",
     "text": [
      "10\n"
     ]
    }
   ],
   "source": [
    "from sklearn.neighbors import KNeighborsClassifier\n",
    "\n",
    "neighbors = []\n",
    "cvscores = []\n",
    "for n in range(10, 50):\n",
    "    knn = KNeighborsClassifier(n_neighbors=n)\n",
    "    cv_scores = cross_val_score(knn, features_final.values, asd_classes.values, cv=10)\n",
    "    neighbors.append(n)\n",
    "    cvscores.append(cv_scores.mean())\n",
    "\n",
    "#print(arr)   \n",
    "\n",
    "print(neighbors[cvscores.index(max(cvscores))])"
   ]
  },
  {
   "cell_type": "markdown",
   "id": "ef45ddb2",
   "metadata": {},
   "source": [
    "## Naive Bayes"
   ]
  },
  {
   "cell_type": "code",
   "execution_count": 39,
   "id": "fa5ad5ec",
   "metadata": {},
   "outputs": [
    {
     "data": {
      "text/plain": [
       "array([1, 1, 1, 1, 1, 1, 0, 1, 1, 1, 1, 1, 1, 0, 1, 1, 1, 1, 1, 1],\n",
       "      dtype=int64)"
      ]
     },
     "execution_count": 39,
     "metadata": {},
     "output_type": "execute_result"
    }
   ],
   "source": [
    "from sklearn.naive_bayes import MultinomialNB\n",
    "\n",
    "mnb = MultinomialNB()\n",
    "mnb.fit(X_train, y_train)\n",
    "y_pred_class = mnb.predict(X_test)\n",
    "mnb.predict(X_test)"
   ]
  },
  {
   "cell_type": "code",
   "execution_count": 40,
   "id": "d675aa96",
   "metadata": {},
   "outputs": [
    {
     "name": "stdout",
     "output_type": "stream",
     "text": [
      "[[ 2  5]\n",
      " [ 0 13]]\n"
     ]
    },
    {
     "data": {
      "image/png": "[encoded data removed]",
      "text/plain": [
       "<Figure size 480x480 with 2 Axes>"
      ]
     },
     "metadata": {},
     "output_type": "display_data"
    }
   ],
   "source": [
    "#confusion matrix\n",
    "\n",
    "from sklearn import metrics\n",
    "confusion = metrics.confusion_matrix(y_test, y_pred_class)\n",
    "print(confusion)\n",
    "TP = confusion[1, 1]\n",
    "TN = confusion[0, 0]\n",
    "FP = confusion[0, 1]\n",
    "FN = confusion[1, 0]\n",
    "\n",
    "\n",
    "plt.matshow(confusion)\n",
    "plt.title('Naive Bayes Confusion matrix',y=1.20)\n",
    "plt.colorbar()\n",
    "plt.ylabel('True label')\n",
    "plt.xlabel('Predicted label')\n",
    "plt.show()\n"
   ]
  },
  {
   "cell_type": "code",
   "execution_count": 41,
   "id": "31f253c2",
   "metadata": {
    "scrolled": true
   },
   "outputs": [
    {
     "name": "stdout",
     "output_type": "stream",
     "text": [
      "Classification Accuracy : 0.75\n",
      "Classification Error : 0.25\n",
      "Senstivity : 1.0\n",
      "Specificity : 0.2857142857142857\n",
      "False Positive Rate : 0.7142857142857143\n",
      "Precision : 0.7222222222222222\n"
     ]
    }
   ],
   "source": [
    "print(\"Classification Accuracy :\", (TP + TN) / float(TP + TN + FP + FN))\n",
    "print(\"Classification Error :\", (FP + FN) / float(TP + TN + FP + FN))\n",
    "print(\"Senstivity :\", TP / float(FN + TP))\n",
    "print(\"Specificity :\", TN / (TN + FP))\n",
    "print(\"False Positive Rate :\", FP / float(TN + FP))\n",
    "print(\"Precision :\", TP / float(TP + FP))"
   ]
  },
  {
   "cell_type": "code",
   "execution_count": 42,
   "id": "50a3b9e0",
   "metadata": {},
   "outputs": [
    {
     "data": {
      "text/plain": [
       "0.8387096774193549"
      ]
     },
     "execution_count": 42,
     "metadata": {},
     "output_type": "execute_result"
    }
   ],
   "source": [
    "#F1 score\n",
    "from sklearn.metrics import f1_score\n",
    "predictions_test = mnb.predict(X_test)\n",
    "f1_score(y_test,predictions_test)"
   ]
  },
  {
   "cell_type": "code",
   "execution_count": 43,
   "id": "055aefaf",
   "metadata": {},
   "outputs": [
    {
     "data": {
      "text/plain": [
       "0.7647058823529411"
      ]
     },
     "execution_count": 43,
     "metadata": {},
     "output_type": "execute_result"
    }
   ],
   "source": [
    "#F- beta score\n",
    "\n",
    "from sklearn.metrics import fbeta_score\n",
    "predictions_test = mnb.predict(X_test)\n",
    "fbeta_score(y_test, predictions_test, average='binary', beta=0.5)"
   ]
  },
  {
   "cell_type": "markdown",
   "id": "33e891ea",
   "metadata": {},
   "source": [
    "# Sequential Model (CNN)"
   ]
  },
  {
   "cell_type": "code",
   "execution_count": 44,
   "id": "07e9a1bb",
   "metadata": {},
   "outputs": [],
   "source": [
    "# Imports\n",
    "import numpy as np\n",
    "import keras\n",
    "from keras.models import Sequential\n",
    "from keras.layers import Dense, Dropout, Activation\n",
    "\n",
    "\n",
    "np.random.seed(42)"
   ]
  },
  {
   "cell_type": "code",
   "execution_count": 45,
   "id": "318879a8",
   "metadata": {},
   "outputs": [
    {
     "name": "stderr",
     "output_type": "stream",
     "text": [
      "c:\\Users\\KIIT\\AppData\\Local\\Programs\\Python\\Python312\\Lib\\site-packages\\keras\\src\\layers\\core\\dense.py:87: UserWarning: Do not pass an `input_shape`/`input_dim` argument to a layer. When using Sequential models, prefer using an `Input(shape)` object as the first layer in the model instead.\n",
      "  super().__init__(activity_regularizer=activity_regularizer, **kwargs)\n"
     ]
    },
    {
     "data": {
      "text/html": [
       "<pre style=\"white-space:pre;overflow-x:auto;line-height:normal;font-family:Menlo,'DejaVu Sans Mono',consolas,'Courier New',monospace\"><span style=\"font-weight: bold\">Model: \"sequential\"</span>\n",
       "</pre>\n"
      ],
      "text/plain": [
       "\u001b[1mModel: \"sequential\"\u001b[0m\n"
      ]
     },
     "metadata": {},
     "output_type": "display_data"
    },
    {
     "data": {
      "text/html": [
       "<pre style=\"white-space:pre;overflow-x:auto;line-height:normal;font-family:Menlo,'DejaVu Sans Mono',consolas,'Courier New',monospace\">┏━━━━━━━━━━━━━━━━━━━━━━━━━━━━━━━━━┳━━━━━━━━━━━━━━━━━━━━━━━━┳━━━━━━━━━━━━━━━┓\n",
       "┃<span style=\"font-weight: bold\"> Layer (type)                    </span>┃<span style=\"font-weight: bold\"> Output Shape           </span>┃<span style=\"font-weight: bold\">       Param # </span>┃\n",
       "┡━━━━━━━━━━━━━━━━━━━━━━━━━━━━━━━━━╇━━━━━━━━━━━━━━━━━━━━━━━━╇━━━━━━━━━━━━━━━┩\n",
       "│ dense (<span style=\"color: #0087ff; text-decoration-color: #0087ff\">Dense</span>)                   │ (<span style=\"color: #00d7ff; text-decoration-color: #00d7ff\">None</span>, <span style=\"color: #00af00; text-decoration-color: #00af00\">8</span>)              │           <span style=\"color: #00af00; text-decoration-color: #00af00\">512</span> │\n",
       "├─────────────────────────────────┼────────────────────────┼───────────────┤\n",
       "│ dropout (<span style=\"color: #0087ff; text-decoration-color: #0087ff\">Dropout</span>)               │ (<span style=\"color: #00d7ff; text-decoration-color: #00d7ff\">None</span>, <span style=\"color: #00af00; text-decoration-color: #00af00\">8</span>)              │             <span style=\"color: #00af00; text-decoration-color: #00af00\">0</span> │\n",
       "├─────────────────────────────────┼────────────────────────┼───────────────┤\n",
       "│ dense_1 (<span style=\"color: #0087ff; text-decoration-color: #0087ff\">Dense</span>)                 │ (<span style=\"color: #00d7ff; text-decoration-color: #00d7ff\">None</span>, <span style=\"color: #00af00; text-decoration-color: #00af00\">1</span>)              │             <span style=\"color: #00af00; text-decoration-color: #00af00\">9</span> │\n",
       "└─────────────────────────────────┴────────────────────────┴───────────────┘\n",
       "</pre>\n"
      ],
      "text/plain": [
       "┏━━━━━━━━━━━━━━━━━━━━━━━━━━━━━━━━━┳━━━━━━━━━━━━━━━━━━━━━━━━┳━━━━━━━━━━━━━━━┓\n",
       "┃\u001b[1m \u001b[0m\u001b[1mLayer (type)                   \u001b[0m\u001b[1m \u001b[0m┃\u001b[1m \u001b[0m\u001b[1mOutput Shape          \u001b[0m\u001b[1m \u001b[0m┃\u001b[1m \u001b[0m\u001b[1m      Param #\u001b[0m\u001b[1m \u001b[0m┃\n",
       "┡━━━━━━━━━━━━━━━━━━━━━━━━━━━━━━━━━╇━━━━━━━━━━━━━━━━━━━━━━━━╇━━━━━━━━━━━━━━━┩\n",
       "│ dense (\u001b[38;5;33mDense\u001b[0m)                   │ (\u001b[38;5;45mNone\u001b[0m, \u001b[38;5;34m8\u001b[0m)              │           \u001b[38;5;34m512\u001b[0m │\n",
       "├─────────────────────────────────┼────────────────────────┼───────────────┤\n",
       "│ dropout (\u001b[38;5;33mDropout\u001b[0m)               │ (\u001b[38;5;45mNone\u001b[0m, \u001b[38;5;34m8\u001b[0m)              │             \u001b[38;5;34m0\u001b[0m │\n",
       "├─────────────────────────────────┼────────────────────────┼───────────────┤\n",
       "│ dense_1 (\u001b[38;5;33mDense\u001b[0m)                 │ (\u001b[38;5;45mNone\u001b[0m, \u001b[38;5;34m1\u001b[0m)              │             \u001b[38;5;34m9\u001b[0m │\n",
       "└─────────────────────────────────┴────────────────────────┴───────────────┘\n"
      ]
     },
     "metadata": {},
     "output_type": "display_data"
    },
    {
     "data": {
      "text/html": [
       "<pre style=\"white-space:pre;overflow-x:auto;line-height:normal;font-family:Menlo,'DejaVu Sans Mono',consolas,'Courier New',monospace\"><span style=\"font-weight: bold\"> Total params: </span><span style=\"color: #00af00; text-decoration-color: #00af00\">521</span> (2.04 KB)\n",
       "</pre>\n"
      ],
      "text/plain": [
       "\u001b[1m Total params: \u001b[0m\u001b[38;5;34m521\u001b[0m (2.04 KB)\n"
      ]
     },
     "metadata": {},
     "output_type": "display_data"
    },
    {
     "data": {
      "text/html": [
       "<pre style=\"white-space:pre;overflow-x:auto;line-height:normal;font-family:Menlo,'DejaVu Sans Mono',consolas,'Courier New',monospace\"><span style=\"font-weight: bold\"> Trainable params: </span><span style=\"color: #00af00; text-decoration-color: #00af00\">521</span> (2.04 KB)\n",
       "</pre>\n"
      ],
      "text/plain": [
       "\u001b[1m Trainable params: \u001b[0m\u001b[38;5;34m521\u001b[0m (2.04 KB)\n"
      ]
     },
     "metadata": {},
     "output_type": "display_data"
    },
    {
     "data": {
      "text/html": [
       "<pre style=\"white-space:pre;overflow-x:auto;line-height:normal;font-family:Menlo,'DejaVu Sans Mono',consolas,'Courier New',monospace\"><span style=\"font-weight: bold\"> Non-trainable params: </span><span style=\"color: #00af00; text-decoration-color: #00af00\">0</span> (0.00 B)\n",
       "</pre>\n"
      ],
      "text/plain": [
       "\u001b[1m Non-trainable params: \u001b[0m\u001b[38;5;34m0\u001b[0m (0.00 B)\n"
      ]
     },
     "metadata": {},
     "output_type": "display_data"
    }
   ],
   "source": [
    "# Building the model architecture with one layer of length 4\n",
    "\n",
    "\n",
    "model = Sequential()\n",
    "model.add(Dense(8, activation='relu', input_dim= 63))\n",
    "model.add(Dropout(0.2))\n",
    "model.add(Dense(1, kernel_initializer='normal', activation='sigmoid'))\n",
    "   \n",
    "    \n",
    "model.summary()"
   ]
  },
  {
   "cell_type": "code",
   "execution_count": 46,
   "id": "c643fe4b",
   "metadata": {},
   "outputs": [],
   "source": [
    "# Compiling the model using categorical_crossentropy loss, and rmsprop optimizer.\n",
    "model.compile(loss='binary_crossentropy',\n",
    "              optimizer='rmsprop',\n",
    "              metrics=['accuracy'])"
   ]
  },
  {
   "cell_type": "code",
   "execution_count": 47,
   "id": "27721617",
   "metadata": {},
   "outputs": [
    {
     "name": "stdout",
     "output_type": "stream",
     "text": [
      "Epoch 1/100\n",
      "5/5 - 2s - 357ms/step - accuracy: 0.6538 - loss: 0.6769 - val_accuracy: 0.6500 - val_loss: 0.6606\n",
      "Epoch 2/100\n",
      "5/5 - 0s - 30ms/step - accuracy: 0.6410 - loss: 0.6635 - val_accuracy: 0.6500 - val_loss: 0.6530\n",
      "Epoch 3/100\n",
      "5/5 - 0s - 10ms/step - accuracy: 0.6282 - loss: 0.6585 - val_accuracy: 0.6500 - val_loss: 0.6469\n",
      "Epoch 4/100\n",
      "5/5 - 0s - 15ms/step - accuracy: 0.6667 - loss: 0.6563 - val_accuracy: 0.6500 - val_loss: 0.6420\n",
      "Epoch 5/100\n",
      "5/5 - 0s - 15ms/step - accuracy: 0.6538 - loss: 0.6456 - val_accuracy: 0.6500 - val_loss: 0.6361\n",
      "Epoch 6/100\n",
      "5/5 - 0s - 10ms/step - accuracy: 0.6923 - loss: 0.6381 - val_accuracy: 0.6500 - val_loss: 0.6309\n",
      "Epoch 7/100\n",
      "5/5 - 0s - 10ms/step - accuracy: 0.6538 - loss: 0.6353 - val_accuracy: 0.6500 - val_loss: 0.6257\n",
      "Epoch 8/100\n",
      "5/5 - 0s - 18ms/step - accuracy: 0.6538 - loss: 0.6320 - val_accuracy: 0.6500 - val_loss: 0.6211\n",
      "Epoch 9/100\n",
      "5/5 - 0s - 15ms/step - accuracy: 0.6667 - loss: 0.6163 - val_accuracy: 0.6500 - val_loss: 0.6163\n",
      "Epoch 10/100\n",
      "5/5 - 0s - 8ms/step - accuracy: 0.6410 - loss: 0.6138 - val_accuracy: 0.6500 - val_loss: 0.6122\n",
      "Epoch 11/100\n",
      "5/5 - 0s - 10ms/step - accuracy: 0.6282 - loss: 0.6192 - val_accuracy: 0.6500 - val_loss: 0.6086\n",
      "Epoch 12/100\n",
      "5/5 - 0s - 12ms/step - accuracy: 0.6410 - loss: 0.6115 - val_accuracy: 0.6500 - val_loss: 0.6051\n",
      "Epoch 13/100\n",
      "5/5 - 0s - 15ms/step - accuracy: 0.6538 - loss: 0.5991 - val_accuracy: 0.6500 - val_loss: 0.6017\n",
      "Epoch 14/100\n",
      "5/5 - 0s - 13ms/step - accuracy: 0.6282 - loss: 0.6034 - val_accuracy: 0.6500 - val_loss: 0.5986\n",
      "Epoch 15/100\n",
      "5/5 - 0s - 13ms/step - accuracy: 0.6410 - loss: 0.6047 - val_accuracy: 0.6500 - val_loss: 0.5962\n",
      "Epoch 16/100\n",
      "5/5 - 0s - 11ms/step - accuracy: 0.6410 - loss: 0.5912 - val_accuracy: 0.6500 - val_loss: 0.5935\n",
      "Epoch 17/100\n",
      "5/5 - 0s - 18ms/step - accuracy: 0.6667 - loss: 0.5852 - val_accuracy: 0.6500 - val_loss: 0.5910\n",
      "Epoch 18/100\n",
      "5/5 - 0s - 11ms/step - accuracy: 0.6667 - loss: 0.5748 - val_accuracy: 0.6500 - val_loss: 0.5886\n",
      "Epoch 19/100\n",
      "5/5 - 0s - 12ms/step - accuracy: 0.6667 - loss: 0.5828 - val_accuracy: 0.6500 - val_loss: 0.5870\n",
      "Epoch 20/100\n",
      "5/5 - 0s - 13ms/step - accuracy: 0.6282 - loss: 0.5811 - val_accuracy: 0.6500 - val_loss: 0.5855\n",
      "Epoch 21/100\n",
      "5/5 - 0s - 13ms/step - accuracy: 0.6538 - loss: 0.5700 - val_accuracy: 0.6500 - val_loss: 0.5836\n",
      "Epoch 22/100\n",
      "5/5 - 0s - 10ms/step - accuracy: 0.6538 - loss: 0.5766 - val_accuracy: 0.6500 - val_loss: 0.5822\n",
      "Epoch 23/100\n",
      "5/5 - 0s - 10ms/step - accuracy: 0.6795 - loss: 0.5744 - val_accuracy: 0.6500 - val_loss: 0.5808\n",
      "Epoch 24/100\n",
      "5/5 - 0s - 12ms/step - accuracy: 0.6923 - loss: 0.5577 - val_accuracy: 0.6500 - val_loss: 0.5790\n",
      "Epoch 25/100\n",
      "5/5 - 0s - 15ms/step - accuracy: 0.6538 - loss: 0.5519 - val_accuracy: 0.6500 - val_loss: 0.5776\n",
      "Epoch 26/100\n",
      "5/5 - 0s - 11ms/step - accuracy: 0.6538 - loss: 0.5497 - val_accuracy: 0.6500 - val_loss: 0.5761\n",
      "Epoch 27/100\n",
      "5/5 - 0s - 12ms/step - accuracy: 0.6538 - loss: 0.5463 - val_accuracy: 0.6500 - val_loss: 0.5749\n",
      "Epoch 28/100\n",
      "5/5 - 0s - 17ms/step - accuracy: 0.6538 - loss: 0.5480 - val_accuracy: 0.6500 - val_loss: 0.5732\n",
      "Epoch 29/100\n",
      "5/5 - 0s - 13ms/step - accuracy: 0.6795 - loss: 0.5439 - val_accuracy: 0.6500 - val_loss: 0.5720\n",
      "Epoch 30/100\n",
      "5/5 - 0s - 11ms/step - accuracy: 0.7051 - loss: 0.5405 - val_accuracy: 0.6500 - val_loss: 0.5710\n",
      "Epoch 31/100\n",
      "5/5 - 0s - 15ms/step - accuracy: 0.6538 - loss: 0.5317 - val_accuracy: 0.6500 - val_loss: 0.5700\n",
      "Epoch 32/100\n",
      "5/5 - 0s - 14ms/step - accuracy: 0.6795 - loss: 0.5432 - val_accuracy: 0.6500 - val_loss: 0.5689\n",
      "Epoch 33/100\n",
      "5/5 - 0s - 10ms/step - accuracy: 0.6667 - loss: 0.5419 - val_accuracy: 0.6500 - val_loss: 0.5683\n",
      "Epoch 34/100\n",
      "5/5 - 0s - 10ms/step - accuracy: 0.6538 - loss: 0.5212 - val_accuracy: 0.6500 - val_loss: 0.5671\n",
      "Epoch 35/100\n",
      "5/5 - 0s - 10ms/step - accuracy: 0.6923 - loss: 0.5227 - val_accuracy: 0.6500 - val_loss: 0.5660\n",
      "Epoch 36/100\n",
      "5/5 - 0s - 12ms/step - accuracy: 0.7051 - loss: 0.5268 - val_accuracy: 0.6500 - val_loss: 0.5651\n",
      "Epoch 37/100\n",
      "5/5 - 0s - 17ms/step - accuracy: 0.6795 - loss: 0.5064 - val_accuracy: 0.6500 - val_loss: 0.5642\n",
      "Epoch 38/100\n",
      "5/5 - 0s - 11ms/step - accuracy: 0.6923 - loss: 0.5088 - val_accuracy: 0.6500 - val_loss: 0.5632\n",
      "Epoch 39/100\n",
      "5/5 - 0s - 15ms/step - accuracy: 0.7308 - loss: 0.5317 - val_accuracy: 0.6500 - val_loss: 0.5624\n",
      "Epoch 40/100\n",
      "5/5 - 0s - 10ms/step - accuracy: 0.7308 - loss: 0.5022 - val_accuracy: 0.6500 - val_loss: 0.5616\n",
      "Epoch 41/100\n",
      "5/5 - 0s - 10ms/step - accuracy: 0.7051 - loss: 0.5156 - val_accuracy: 0.6500 - val_loss: 0.5610\n",
      "Epoch 42/100\n",
      "5/5 - 0s - 10ms/step - accuracy: 0.6923 - loss: 0.5040 - val_accuracy: 0.6500 - val_loss: 0.5604\n",
      "Epoch 43/100\n",
      "5/5 - 0s - 10ms/step - accuracy: 0.7308 - loss: 0.5070 - val_accuracy: 0.6500 - val_loss: 0.5599\n",
      "Epoch 44/100\n",
      "5/5 - 0s - 10ms/step - accuracy: 0.7179 - loss: 0.4966 - val_accuracy: 0.6500 - val_loss: 0.5590\n",
      "Epoch 45/100\n",
      "5/5 - 0s - 10ms/step - accuracy: 0.7051 - loss: 0.5065 - val_accuracy: 0.6500 - val_loss: 0.5576\n",
      "Epoch 46/100\n",
      "5/5 - 0s - 16ms/step - accuracy: 0.7308 - loss: 0.4735 - val_accuracy: 0.6500 - val_loss: 0.5562\n",
      "Epoch 47/100\n",
      "5/5 - 0s - 17ms/step - accuracy: 0.7179 - loss: 0.4979 - val_accuracy: 0.6500 - val_loss: 0.5554\n",
      "Epoch 48/100\n",
      "5/5 - 0s - 13ms/step - accuracy: 0.7308 - loss: 0.4809 - val_accuracy: 0.6500 - val_loss: 0.5539\n",
      "Epoch 49/100\n",
      "5/5 - 0s - 13ms/step - accuracy: 0.7564 - loss: 0.4807 - val_accuracy: 0.6500 - val_loss: 0.5521\n",
      "Epoch 50/100\n",
      "5/5 - 0s - 17ms/step - accuracy: 0.7949 - loss: 0.4694 - val_accuracy: 0.6500 - val_loss: 0.5504\n",
      "Epoch 51/100\n",
      "5/5 - 0s - 14ms/step - accuracy: 0.7436 - loss: 0.4592 - val_accuracy: 0.6500 - val_loss: 0.5490\n",
      "Epoch 52/100\n",
      "5/5 - 0s - 15ms/step - accuracy: 0.7564 - loss: 0.4635 - val_accuracy: 0.6500 - val_loss: 0.5478\n",
      "Epoch 53/100\n",
      "5/5 - 0s - 16ms/step - accuracy: 0.7308 - loss: 0.4773 - val_accuracy: 0.6500 - val_loss: 0.5461\n",
      "Epoch 54/100\n",
      "5/5 - 0s - 11ms/step - accuracy: 0.7949 - loss: 0.4782 - val_accuracy: 0.6500 - val_loss: 0.5448\n",
      "Epoch 55/100\n",
      "5/5 - 0s - 13ms/step - accuracy: 0.7949 - loss: 0.4661 - val_accuracy: 0.6500 - val_loss: 0.5430\n",
      "Epoch 56/100\n",
      "5/5 - 0s - 10ms/step - accuracy: 0.7949 - loss: 0.4552 - val_accuracy: 0.6500 - val_loss: 0.5415\n",
      "Epoch 57/100\n",
      "5/5 - 0s - 17ms/step - accuracy: 0.8077 - loss: 0.4411 - val_accuracy: 0.6500 - val_loss: 0.5403\n",
      "Epoch 58/100\n",
      "5/5 - 0s - 8ms/step - accuracy: 0.8590 - loss: 0.4337 - val_accuracy: 0.6500 - val_loss: 0.5388\n",
      "Epoch 59/100\n",
      "5/5 - 0s - 14ms/step - accuracy: 0.8205 - loss: 0.4470 - val_accuracy: 0.6500 - val_loss: 0.5373\n",
      "Epoch 60/100\n",
      "5/5 - 0s - 15ms/step - accuracy: 0.8205 - loss: 0.4188 - val_accuracy: 0.6500 - val_loss: 0.5366\n",
      "Epoch 61/100\n",
      "5/5 - 0s - 10ms/step - accuracy: 0.8333 - loss: 0.4168 - val_accuracy: 0.6500 - val_loss: 0.5353\n",
      "Epoch 62/100\n",
      "5/5 - 0s - 12ms/step - accuracy: 0.8077 - loss: 0.4474 - val_accuracy: 0.6500 - val_loss: 0.5330\n",
      "Epoch 63/100\n",
      "5/5 - 0s - 11ms/step - accuracy: 0.8333 - loss: 0.4037 - val_accuracy: 0.6500 - val_loss: 0.5325\n",
      "Epoch 64/100\n",
      "5/5 - 0s - 16ms/step - accuracy: 0.8333 - loss: 0.4253 - val_accuracy: 0.6500 - val_loss: 0.5316\n",
      "Epoch 65/100\n",
      "5/5 - 0s - 17ms/step - accuracy: 0.8205 - loss: 0.4229 - val_accuracy: 0.6500 - val_loss: 0.5299\n",
      "Epoch 66/100\n",
      "5/5 - 0s - 15ms/step - accuracy: 0.8077 - loss: 0.4105 - val_accuracy: 0.6500 - val_loss: 0.5280\n",
      "Epoch 67/100\n",
      "5/5 - 0s - 10ms/step - accuracy: 0.8205 - loss: 0.4097 - val_accuracy: 0.6500 - val_loss: 0.5274\n",
      "Epoch 68/100\n",
      "5/5 - 0s - 8ms/step - accuracy: 0.7949 - loss: 0.4321 - val_accuracy: 0.6500 - val_loss: 0.5255\n",
      "Epoch 69/100\n",
      "5/5 - 0s - 15ms/step - accuracy: 0.8590 - loss: 0.3833 - val_accuracy: 0.7000 - val_loss: 0.5242\n",
      "Epoch 70/100\n",
      "5/5 - 0s - 21ms/step - accuracy: 0.8590 - loss: 0.4101 - val_accuracy: 0.7000 - val_loss: 0.5225\n",
      "Epoch 71/100\n",
      "5/5 - 0s - 12ms/step - accuracy: 0.8590 - loss: 0.3844 - val_accuracy: 0.7000 - val_loss: 0.5217\n",
      "Epoch 72/100\n",
      "5/5 - 0s - 10ms/step - accuracy: 0.8333 - loss: 0.4125 - val_accuracy: 0.7000 - val_loss: 0.5197\n",
      "Epoch 73/100\n",
      "5/5 - 0s - 11ms/step - accuracy: 0.8333 - loss: 0.4020 - val_accuracy: 0.7000 - val_loss: 0.5185\n",
      "Epoch 74/100\n",
      "5/5 - 0s - 12ms/step - accuracy: 0.8590 - loss: 0.3731 - val_accuracy: 0.7000 - val_loss: 0.5174\n",
      "Epoch 75/100\n",
      "5/5 - 0s - 14ms/step - accuracy: 0.8333 - loss: 0.4083 - val_accuracy: 0.7000 - val_loss: 0.5165\n",
      "Epoch 76/100\n",
      "5/5 - 0s - 15ms/step - accuracy: 0.8846 - loss: 0.3731 - val_accuracy: 0.7000 - val_loss: 0.5157\n",
      "Epoch 77/100\n",
      "5/5 - 0s - 12ms/step - accuracy: 0.8590 - loss: 0.3790 - val_accuracy: 0.7000 - val_loss: 0.5160\n",
      "Epoch 78/100\n",
      "5/5 - 0s - 12ms/step - accuracy: 0.8846 - loss: 0.3658 - val_accuracy: 0.7000 - val_loss: 0.5161\n",
      "Epoch 79/100\n",
      "5/5 - 0s - 13ms/step - accuracy: 0.8718 - loss: 0.3579 - val_accuracy: 0.7000 - val_loss: 0.5158\n",
      "Epoch 80/100\n",
      "5/5 - 0s - 14ms/step - accuracy: 0.8462 - loss: 0.3595 - val_accuracy: 0.7000 - val_loss: 0.5134\n",
      "Epoch 81/100\n",
      "5/5 - 0s - 12ms/step - accuracy: 0.8846 - loss: 0.3329 - val_accuracy: 0.7000 - val_loss: 0.5133\n",
      "Epoch 82/100\n",
      "5/5 - 0s - 13ms/step - accuracy: 0.8590 - loss: 0.3713 - val_accuracy: 0.7000 - val_loss: 0.5115\n",
      "Epoch 83/100\n",
      "5/5 - 0s - 17ms/step - accuracy: 0.8974 - loss: 0.3432 - val_accuracy: 0.7000 - val_loss: 0.5097\n",
      "Epoch 84/100\n",
      "5/5 - 0s - 12ms/step - accuracy: 0.8974 - loss: 0.3278 - val_accuracy: 0.7000 - val_loss: 0.5091\n",
      "Epoch 85/100\n",
      "5/5 - 0s - 17ms/step - accuracy: 0.9103 - loss: 0.3057 - val_accuracy: 0.7000 - val_loss: 0.5080\n",
      "Epoch 86/100\n",
      "5/5 - 0s - 12ms/step - accuracy: 0.8846 - loss: 0.3462 - val_accuracy: 0.7500 - val_loss: 0.5062\n",
      "Epoch 87/100\n",
      "5/5 - 0s - 13ms/step - accuracy: 0.9359 - loss: 0.3222 - val_accuracy: 0.7500 - val_loss: 0.5059\n",
      "Epoch 88/100\n",
      "5/5 - 0s - 13ms/step - accuracy: 0.9231 - loss: 0.3114 - val_accuracy: 0.7500 - val_loss: 0.5054\n",
      "Epoch 89/100\n",
      "5/5 - 0s - 27ms/step - accuracy: 0.9103 - loss: 0.3472 - val_accuracy: 0.7500 - val_loss: 0.5046\n",
      "Epoch 90/100\n",
      "5/5 - 0s - 14ms/step - accuracy: 0.9359 - loss: 0.3210 - val_accuracy: 0.7500 - val_loss: 0.5031\n",
      "Epoch 91/100\n",
      "5/5 - 0s - 11ms/step - accuracy: 0.8846 - loss: 0.3400 - val_accuracy: 0.7500 - val_loss: 0.5024\n",
      "Epoch 92/100\n",
      "5/5 - 0s - 10ms/step - accuracy: 0.8718 - loss: 0.3149 - val_accuracy: 0.7500 - val_loss: 0.5021\n",
      "Epoch 93/100\n",
      "5/5 - 0s - 10ms/step - accuracy: 0.9231 - loss: 0.3069 - val_accuracy: 0.7500 - val_loss: 0.5014\n",
      "Epoch 94/100\n",
      "5/5 - 0s - 15ms/step - accuracy: 0.9231 - loss: 0.2999 - val_accuracy: 0.8000 - val_loss: 0.5001\n",
      "Epoch 95/100\n",
      "5/5 - 0s - 13ms/step - accuracy: 0.8590 - loss: 0.3180 - val_accuracy: 0.8000 - val_loss: 0.4992\n",
      "Epoch 96/100\n",
      "5/5 - 0s - 17ms/step - accuracy: 0.9231 - loss: 0.2847 - val_accuracy: 0.8000 - val_loss: 0.4986\n",
      "Epoch 97/100\n",
      "5/5 - 0s - 10ms/step - accuracy: 0.9231 - loss: 0.2893 - val_accuracy: 0.8000 - val_loss: 0.4989\n",
      "Epoch 98/100\n",
      "5/5 - 0s - 17ms/step - accuracy: 0.9359 - loss: 0.2849 - val_accuracy: 0.8000 - val_loss: 0.4986\n",
      "Epoch 99/100\n",
      "5/5 - 0s - 16ms/step - accuracy: 0.8846 - loss: 0.2873 - val_accuracy: 0.8000 - val_loss: 0.4979\n",
      "Epoch 100/100\n",
      "5/5 - 0s - 10ms/step - accuracy: 0.9487 - loss: 0.2850 - val_accuracy: 0.8000 - val_loss: 0.4964\n"
     ]
    }
   ],
   "source": [
    "# Running and evaluating the model\n",
    "hist = model.fit(X_train, y_train,\n",
    "          batch_size=16,\n",
    "          epochs=100,\n",
    "          validation_data=(X_test, y_test), \n",
    "          verbose=2)"
   ]
  },
  {
   "cell_type": "code",
   "execution_count": 48,
   "id": "e3b3d2e7",
   "metadata": {},
   "outputs": [
    {
     "data": {
      "text/plain": [
       "Text(0.5, 1.0, 'Loss')"
      ]
     },
     "execution_count": 48,
     "metadata": {},
     "output_type": "execute_result"
    },
    {
     "data": {
      "image/png": "[encoded data removed]",
      "text/plain": [
       "<Figure size 640x480 with 1 Axes>"
      ]
     },
     "metadata": {},
     "output_type": "display_data"
    },
    {
     "data": {
      "image/png": "[encoded data removed]",
      "text/plain": [
       "<Figure size 640x480 with 1 Axes>"
      ]
     },
     "metadata": {},
     "output_type": "display_data"
    }
   ],
   "source": [
    "acc = hist.history['accuracy']\n",
    "val_acc = hist.history['val_accuracy']\n",
    "loss = hist.history['loss']\n",
    "val_loss = hist.history['val_loss']\n",
    "epochs = range(100)\n",
    "\n",
    "plt.plot(epochs,acc)\n",
    "plt.plot(epochs,val_acc)\n",
    "plt.title ('Accuracy')\n",
    "plt.figure()\n",
    "\n",
    "plt.plot(epochs,loss)\n",
    "plt.plot(epochs, val_loss)\n",
    "plt.title('Loss')"
   ]
  },
  {
   "cell_type": "code",
   "execution_count": 49,
   "id": "a31cb2a2",
   "metadata": {},
   "outputs": [
    {
     "data": {
      "text/plain": [
       "0.800000011920929"
      ]
     },
     "execution_count": 49,
     "metadata": {},
     "output_type": "execute_result"
    }
   ],
   "source": [
    "#accuracy\n",
    "model.evaluate(X_test, y_test, verbose=0)[1]"
   ]
  },
  {
   "cell_type": "code",
   "execution_count": 50,
   "id": "a4b6abfa",
   "metadata": {},
   "outputs": [
    {
     "name": "stdout",
     "output_type": "stream",
     "text": [
      "\u001b[1m1/1\u001b[0m \u001b[32m━━━━━━━━━━━━━━━━━━━━\u001b[0m\u001b[37m\u001b[0m \u001b[1m0s\u001b[0m 66ms/step\n",
      "[[1]\n",
      " [1]\n",
      " [1]\n",
      " [1]\n",
      " [1]\n",
      " [1]\n",
      " [0]\n",
      " [1]\n",
      " [1]\n",
      " [1]\n",
      " [1]\n",
      " [1]\n",
      " [1]\n",
      " [0]\n",
      " [1]\n",
      " [0]\n",
      " [1]\n",
      " [1]\n",
      " [1]\n",
      " [1]]\n"
     ]
    }
   ],
   "source": [
    "predictions_prob = model.predict(X_test)\n",
    "\n",
    "# Convert probabilities to class labels\n",
    "# predictions = np.argmax(probabilities, axis=-1)\n",
    "predictions = (predictions_prob > 0.5).astype(\"int32\")\n",
    "# p.argmax(model.predict(x), axis=-1\n",
    "print(predictions)\n",
    "\n"
   ]
  },
  {
   "cell_type": "code",
   "execution_count": 51,
   "id": "015195e5",
   "metadata": {},
   "outputs": [
    {
     "name": "stdout",
     "output_type": "stream",
     "text": [
      "[[ 3  4]\n",
      " [ 0 13]]\n"
     ]
    },
    {
     "data": {
      "image/png": "[encoded data removed]",
      "text/plain": [
       "<Figure size 480x480 with 2 Axes>"
      ]
     },
     "metadata": {},
     "output_type": "display_data"
    }
   ],
   "source": [
    "confusion = metrics.confusion_matrix(y_test, predictions)\n",
    "print(confusion)\n",
    "\n",
    "TP = confusion[1, 1]\n",
    "TN = confusion[0, 0]\n",
    "FP = confusion[0, 1]\n",
    "FN = confusion[1, 0]\n",
    "\n",
    "plt.matshow(confusion)\n",
    "plt.title('Naive Bayes Confusion matrix',y=1.20)\n",
    "plt.colorbar()\n",
    "plt.ylabel('True label')\n",
    "plt.xlabel('Predicted label')\n",
    "plt.show()"
   ]
  },
  {
   "cell_type": "code",
   "execution_count": 52,
   "id": "bb4614d5",
   "metadata": {},
   "outputs": [
    {
     "name": "stdout",
     "output_type": "stream",
     "text": [
      "Classification Accuracy : 0.8\n",
      "Classification Error : 0.2\n",
      "Senstivity : 1.0\n",
      "Specificity : 0.42857142857142855\n",
      "False Positive Rate : 0.5714285714285714\n",
      "Precision : 0.7647058823529411\n"
     ]
    }
   ],
   "source": [
    "print(\"Classification Accuracy :\", (TP + TN) / float(TP + TN + FP + FN))\n",
    "print(\"Classification Error :\", (FP + FN) / float(TP + TN + FP + FN))\n",
    "print(\"Senstivity :\", TP / float(FN + TP))\n",
    "print(\"Specificity :\", TN / (TN + FP))\n",
    "print(\"False Positive Rate :\", FP / float(TN + FP))\n",
    "print(\"Precision :\", TP / float(TP + FP))"
   ]
  },
  {
   "cell_type": "code",
   "execution_count": 53,
   "id": "b38ad1f9",
   "metadata": {},
   "outputs": [
    {
     "data": {
      "text/plain": [
       "0.8666666666666667"
      ]
     },
     "execution_count": 53,
     "metadata": {},
     "output_type": "execute_result"
    }
   ],
   "source": [
    "#F1 score\n",
    "from sklearn.metrics import f1_score\n",
    "predictions_test = predictions\n",
    "f1_score(y_test,predictions_test)"
   ]
  },
  {
   "cell_type": "code",
   "execution_count": 54,
   "id": "e4b1e69e",
   "metadata": {},
   "outputs": [
    {
     "data": {
      "text/plain": [
       "0.8024691358024691"
      ]
     },
     "execution_count": 54,
     "metadata": {},
     "output_type": "execute_result"
    }
   ],
   "source": [
    "#F- beta score\n",
    "\n",
    "from sklearn.metrics import fbeta_score\n",
    "predictions_test = predictions\n",
    "fbeta_score(y_test, predictions_test, average='binary', beta=0.5)"
   ]
  },
  {
   "cell_type": "code",
   "execution_count": null,
   "id": "9e34fb88",
   "metadata": {},
   "outputs": [],
   "source": []
  }
 ],
 "metadata": {
  "kernelspec": {
   "display_name": "Python 3 (ipykernel)",
   "language": "python",
   "name": "python3"
  },
  "language_info": {
   "codemirror_mode": {
    "name": "ipython",
    "version": 3
   },
   "file_extension": ".py",
   "mimetype": "text/x-python",
   "name": "python",
   "nbconvert_exporter": "python",
   "pygments_lexer": "ipython3",
   "version": "3.12.4"
  }
 },
 "nbformat": 4,
 "nbformat_minor": 5
}
